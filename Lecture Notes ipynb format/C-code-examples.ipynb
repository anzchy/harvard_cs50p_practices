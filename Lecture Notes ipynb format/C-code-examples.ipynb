{
 "cells": [
  {
   "cell_type": "markdown",
   "id": "6b8328c3-c71b-4c06-a908-b349ca0649d5",
   "metadata": {},
   "source": [
    "# C语言和 Python 语言的不同\n",
    "1、Comment 不同：\n",
    "- Python 中，用`#`;\n",
    "- C 中，用`//`。\n",
    "2、C语言的库要提前导入，Python 有很多内置的库，不需要显示声明导入。\n",
    "3、C 语言中，每段语句背后要有`;`，而 Python 中不需要。\n",
    "4、 Python语言中内置了大量的函数，譬如 C 语言中 get_string()函数官方没有内置，于是 cs50.h 自己写了个函数。而 Python 中内置了对应的函数input()，其功能相当于 get_string()."
   ]
  },
  {
   "cell_type": "code",
   "execution_count": 2,
   "id": "43fc6c26-c4f1-41a6-aad8-808fc01f115c",
   "metadata": {},
   "outputs": [
    {
     "name": "stdout",
     "output_type": "stream",
     "text": [
      "Hello, world!"
     ]
    }
   ],
   "source": [
    "// first c code in Jupyter lab\n",
    "// hello_world.c\n",
    "#include<stdio.h>\n",
    "int main(void)\n",
    "{\n",
    "    printf(\"Hello, world!\");\n",
    "}"
   ]
  },
  {
   "cell_type": "markdown",
   "id": "e892c3b4-9a23-4159-8e28-73c370fcdfc6",
   "metadata": {},
   "source": [
    "对应的实现相同功能的 Python 这样写\n",
    "```\n",
    "print(\"hello world\")\n",
    "```"
   ]
  },
  {
   "cell_type": "code",
   "execution_count": 3,
   "id": "851a5f89",
   "metadata": {},
   "outputs": [
    {
     "name": "stderr",
     "output_type": "stream",
     "text": [
      "/var/folders/yp/qyzd_0dx27vblg19cv45z67h0000gn/T/tmpk1tgz2e3.c:1:7: error: expected parameter declarator\n",
      "print(\"hello world\")\n",
      "      ^\n",
      "/var/folders/yp/qyzd_0dx27vblg19cv45z67h0000gn/T/tmpk1tgz2e3.c:1:7: error: expected ')'\n",
      "/var/folders/yp/qyzd_0dx27vblg19cv45z67h0000gn/T/tmpk1tgz2e3.c:1:6: note: to match this '('\n",
      "print(\"hello world\")\n",
      "     ^\n",
      "/var/folders/yp/qyzd_0dx27vblg19cv45z67h0000gn/T/tmpk1tgz2e3.c:1:21: error: expected function body after function declarator\n",
      "print(\"hello world\")\n",
      "                    ^\n",
      "3 errors generated.\n",
      "[C kernel] GCC exited with code 1, the executable will not be executed"
     ]
    }
   ],
   "source": [
    "print(\"hello world\")"
   ]
  },
  {
   "cell_type": "code",
   "execution_count": 4,
   "id": "42c8a1c1-c5bb-43e2-84b0-7e58f2e6f9b2",
   "metadata": {},
   "outputs": [
    {
     "name": "stderr",
     "output_type": "stream",
     "text": [
      "Undefined symbols for architecture arm64:\n",
      "  \"_get_string\", referenced from:\n",
      "      _main in tmp03j6_wiv-b6d766.o\n",
      "ld: symbol(s) not found for architecture arm64\n",
      "clang: error: linker command failed with exit code 1 (use -v to see invocation)\n",
      "[C kernel] GCC exited with code 1, the executable will not be executed"
     ]
    }
   ],
   "source": [
    "// hello_jack.c\n",
    "#include <stdio.h>\n",
    "#include <cs50.h>\n",
    "\n",
    "int main(void)\n",
    "{\n",
    "\n",
    "    string name = get_string(\"What's your name?\\n\");\n",
    "    printf(\"Hello, %s\", name);\n",
    "    \n",
    "}"
   ]
  }
 ],
 "metadata": {
  "kernelspec": {
   "display_name": "C",
   "language": "c",
   "name": "c"
  },
  "language_info": {
   "file_extension": ".c",
   "mimetype": "text/plain",
   "name": "c"
  }
 },
 "nbformat": 4,
 "nbformat_minor": 5
}
