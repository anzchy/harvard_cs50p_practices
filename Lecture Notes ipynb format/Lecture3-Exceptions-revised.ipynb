{
 "cells": [
  {
   "cell_type": "markdown",
   "metadata": {},
   "source": [
    "## Lecture 3\n",
    "\n",
    "+   [Exceptions](#exceptions)\n",
    "+   [Runtime Errors](#runtime-errors)\n",
    "+   [`try`](#try)\n",
    "+   [`else`](#else)\n",
    "+   [Creating a Function to Get an Integer](#creating-a-function-to-get-an-integer)\n",
    "+   [`pass`](#pass)\n",
    "+   [Summing Up](#summing-up)"
   ]
  },
  {
   "cell_type": "markdown",
   "metadata": {},
   "source": [
    "## Exceptions\n",
    "\n",
    "+   Exceptions are things that go wrong within our coding.\n",
    "+   In our text editor, type `code hello.py` to create a new file. Type as follows (with the intentional errors included):\n",
    "    \n",
    "    Notice that we intentionally left out a quotation mark.\n",
    "    \n",
    "+   Running `python hello.py` in our terminal window, an error is outputted. The compiler states that it is a “syntax error.”” Syntax errors are those that require you to double-check that you typed in your code correction.\n",
    "    \n",
    "+   You can learn more in Python’s documentation of [Errors and Exceptions](https://docs.python.org/3/tutorial/errors.html)."
   ]
  },
  {
   "cell_type": "markdown",
   "metadata": {},
   "source": [
    "## Runtime Errors\n",
    "\n",
    "+   Runtime errors refer to those created by unexpected behavior within your code. For example, perhaps you intended for a user to input a number, but they input a character instead. Your program may throw an error because of this unexpected input from the user.\n",
    "+   In your terminal window, run `code number.py`. Code as follows in your text editor:"
   ]
  },
  {
   "cell_type": "code",
   "execution_count": null,
   "metadata": {},
   "outputs": [],
   "source": [
    "    \n",
    "    \n",
    "    x = int(input(\"What's x? \"))\n",
    "    print(f\"x is {x}\")\n",
    "    "
   ]
  },
  {
   "cell_type": "markdown",
   "metadata": {},
   "source": [
    "    \n",
    "    Notice that by including the `f`, we tell Python to interpolate what is in the curly braces as the value of `x`. Further, testing out your code, you can imagine how one could easily type in a string or a character instead of a number. Even still, a user could type nothing at all – simply hitting the enter key.\n",
    "    \n",
    "+   As programmers, we should be defensive to ensure that our users are entering what we expected. We might consider “corner cases” such as `-1`, `0`, or `cat`.\n",
    "    \n",
    "+   If we run this program and type in “cat”, we’ll suddenly see `ValueError: invalid literal for int() with base 10: 'cat'` Essentially, the Python interpreter does not like that we passed “cat” to the `print` function.\n",
    "    \n",
    "+   An effective strategy to fix this potential error would be to create “error handling” to ensure the user behaves as we intend.\n",
    "    \n",
    "+   You can learn more in Python’s documentation of [Errors and Exceptions](https://docs.python.org/3/tutorial/errors.html)."
   ]
  },
  {
   "cell_type": "markdown",
   "metadata": {},
   "source": [
    "## `try`\n",
    "\n",
    "+   In Python `try` and `except` are ways of testing out user input before something goes wrong. Modify your code as follows:"
   ]
  },
  {
   "cell_type": "code",
   "execution_count": null,
   "metadata": {},
   "outputs": [],
   "source": [
    "    \n",
    "    \n",
    "    try:\n",
    "        x = int(input(\"What's x?\"))\n",
    "        print(f\"x is {x}\")\n",
    "    except ValueError:\n",
    "        print(\"x is not an integer\")\n",
    "    "
   ]
  },
  {
   "cell_type": "markdown",
   "metadata": {},
   "source": [
    "    \n",
    "    Notice how, running this code, inputting `50` will be accepted. However, typing in `cat` will produce an error visible to the user, instructing them why their input was not accepted.\n",
    "    \n",
    "+   This is still not the best way to implement this code. Notice that we are trying to do two lines of code. For best practice, we should only `try` the fewest lines of code possible that we are concerned could fail. Adjust your code as follows:"
   ]
  },
  {
   "cell_type": "code",
   "execution_count": null,
   "metadata": {},
   "outputs": [],
   "source": [
    "    \n",
    "    \n",
    "    try:\n",
    "        x = int(input(\"What's x?\"))\n",
    "    except ValueError:\n",
    "        print(\"x is not an integer\")\n",
    "    \n",
    "    print(f\"x is {x}\")\n",
    "    "
   ]
  },
  {
   "cell_type": "markdown",
   "metadata": {},
   "source": [
    "    \n",
    "    Notice that while this accomplishes our goal of trying as few lines as possible, we now face a new error! We face a `NameError` where `x is not defined`. Look at this code and consider: Why is x not defined in some cases?\n",
    "    \n",
    "+   Indeed, if you examine the order of operations in `x = int(input(\"What's x?\"))`, working right to left, it could take an incorrectly inputted character and attempt to assign it as an integer. If this fails, the assignment of the value of `x` never occurs. Therefore, there is no x to print on our final line of code.\n",
    "    "
   ]
  },
  {
   "cell_type": "markdown",
   "metadata": {},
   "source": [
    "## `else`\n",
    "\n",
    "+   It turns out that there is another way to implement `try` that could catch errors of this nature.\n",
    "    \n",
    "+   Adjust your code as follows:"
   ]
  },
  {
   "cell_type": "code",
   "execution_count": null,
   "metadata": {},
   "outputs": [],
   "source": [
    "    \n",
    "    \n",
    "    try:\n",
    "        x = int(input(\"What's x?\"))\n",
    "    except ValueError:\n",
    "        print(\"x is not an integer\")\n",
    "    else:\n",
    "        print(f\"x is {x}\")\n",
    "    "
   ]
  },
  {
   "cell_type": "markdown",
   "metadata": {},
   "source": [
    "    \n",
    "    Notice that if no exception occurs, it will then run the block of code within `else`. Running `python number.py` and supplying `50`, you’ll notice that the result will be printed. Trying again, this time supplying `cat`, you’ll notice that the program now catches the error.\n",
    "    \n",
    "+   Considering improving our code, notice that we are being a bit rude to our user. If our user does not cooperate, we currently simply end our program. Consider how we can use a loop to prompt the user for `x` and if they don’t prompt again! Improve your code as follows:"
   ]
  },
  {
   "cell_type": "code",
   "execution_count": null,
   "metadata": {},
   "outputs": [],
   "source": [
    "    \n",
    "    \n",
    "    while True:\n",
    "        try:\n",
    "            x = int(input(\"What's x?\"))\n",
    "        except ValueError:\n",
    "            print(\"x is not an integer\")\n",
    "        else:\n",
    "            break\n",
    "    \n",
    "    print(f\"x is {x}\")\n",
    "    "
   ]
  },
  {
   "cell_type": "markdown",
   "metadata": {},
   "source": [
    "    \n",
    "    Notice that `while True` will loop forever. If the user succeeds in supplying the correct input, we can break from the loop and then print the output. Now, a user that inputs something incorrectly will be asked for input again.\n",
    "    "
   ]
  },
  {
   "cell_type": "markdown",
   "metadata": {},
   "source": [
    "## Creating a Function to Get an Integer\n",
    "\n",
    "+   Surely, there are many times that we would want to get an integer from our user. Modify your code as follows:"
   ]
  },
  {
   "cell_type": "code",
   "execution_count": null,
   "metadata": {},
   "outputs": [],
   "source": [
    "    \n",
    "    \n",
    "    def main():\n",
    "        x = get_int()\n",
    "        print(f\"x is {x}\")\n",
    "    \n",
    "    \n",
    "    def get_int():\n",
    "        while True:\n",
    "            try:\n",
    "                x = int(input(\"What's x?\"))\n",
    "            except ValueError:\n",
    "                print(\"x is not an integer\")\n",
    "            else:\n",
    "                break\n",
    "        return x\n",
    "    \n",
    "    \n",
    "    main()\n",
    "    "
   ]
  },
  {
   "cell_type": "markdown",
   "metadata": {},
   "source": [
    "    \n",
    "    Notice that we are manifesting many great properties. First, we have abstracted away the ability to get an integer. Now, this whole program boils down to the first three lines of the program.\n",
    "    \n",
    "+   Even still, we can improve this program. Consider what else you could do to improve this program. Modify your code as follows:"
   ]
  },
  {
   "cell_type": "code",
   "execution_count": null,
   "metadata": {},
   "outputs": [],
   "source": [
    "    \n",
    "    \n",
    "    def main():\n",
    "        x = get_int()\n",
    "        print(f\"x is {x}\")\n",
    "    \n",
    "    \n",
    "    def get_int():\n",
    "        while True:\n",
    "            try:\n",
    "                x = int(input(\"What's x?\"))\n",
    "            except ValueError:\n",
    "                print(\"x is not an integer\")\n",
    "            else:\n",
    "                return x\n",
    "    \n",
    "    \n",
    "    main()\n",
    "    "
   ]
  },
  {
   "cell_type": "markdown",
   "metadata": {},
   "source": [
    "    \n",
    "    Notice that `return` will not only break you out of a loop, but it will also return a value.\n",
    "    \n",
    "+   Some people may argue you could do the following:"
   ]
  },
  {
   "cell_type": "code",
   "execution_count": null,
   "metadata": {},
   "outputs": [],
   "source": [
    "    \n",
    "    \n",
    "    def main():\n",
    "        x = get_int()\n",
    "        print(f\"x is {x}\")\n",
    "    \n",
    "    \n",
    "    def get_int():\n",
    "        while True:\n",
    "            try:\n",
    "                return int(input(\"What's x?\"))\n",
    "            except ValueError:\n",
    "                print(\"x is not an integer\")\n",
    "    \n",
    "    \n",
    "    main()\n",
    "    "
   ]
  },
  {
   "cell_type": "markdown",
   "metadata": {},
   "source": [
    "    \n",
    "    Notice this does the same thing as the previous iteration of our code, simply with fewer lines.\n",
    "    "
   ]
  },
  {
   "cell_type": "markdown",
   "metadata": {},
   "source": [
    "## `pass`\n",
    "\n",
    "+   We can make it such that our code does not warn our user, but simply re-asks them our prompting question by modifying our code as follows:"
   ]
  },
  {
   "cell_type": "code",
   "execution_count": null,
   "metadata": {},
   "outputs": [],
   "source": [
    "    \n",
    "    \n",
    "    def main():\n",
    "        x = get_int()\n",
    "        print(f\"x is {x}\")\n",
    "    \n",
    "    \n",
    "    def get_int():\n",
    "        while True:\n",
    "            try:\n",
    "                return int(input(\"What's x?\"))\n",
    "            except ValueError:\n",
    "                pass\n",
    "    \n",
    "    \n",
    "    main()\n",
    "    "
   ]
  },
  {
   "cell_type": "markdown",
   "metadata": {},
   "source": [
    "    \n",
    "    Notice that our code will still function but will not repeatedly inform the user of their error. In some cases, you’ll want to be very clear to the user what error is being produced. Other times, you might decide that you simply want to ask them for input again.\n",
    "    \n",
    "+   One final refinement that could improve the implementation of this `get_int` function. Right now, notice that we are relying currently upon the honor system that the `x` is in both the `main` and `get_int` functions. We probably want to pass in a prompt that the user sees when asked for input. Modify your code as follows."
   ]
  },
  {
   "cell_type": "code",
   "execution_count": null,
   "metadata": {},
   "outputs": [],
   "source": [
    "    \n",
    "    \n",
    "    def main():\n",
    "        x = get_int(\"What's x? \")\n",
    "        print(f\"x is {x}\")\n",
    "    \n",
    "    \n",
    "    def get_int(prompt):\n",
    "        while True:\n",
    "            try:\n",
    "                return int(input(prompt))\n",
    "            except ValueError:\n",
    "                pass\n",
    "    \n",
    "    \n",
    "    main()"
   ]
  },
  {
   "cell_type": "markdown",
   "metadata": {},
   "source": [
    "    \n",
    "    \n",
    "+   You can learn more in Python’s documentation of [`pass`](https://docs.python.org/3/tutorial/controlflow.html#pass-statements).\n",
    "    "
   ]
  },
  {
   "cell_type": "markdown",
   "metadata": {},
   "source": [
    "## Summing Up\n",
    "\n",
    "Errors are inevitable in your code. However, you have the opportunity to use what was learned today to help prevent these errors. In this lecture, you learned about…\n",
    "\n",
    "+   Exceptions\n",
    "+   Value Errors\n",
    "+   Runtime Errors\n",
    "+   `try`\n",
    "+   `else`\n",
    "+   `pass`"
   ]
  },
  {
   "cell_type": "code",
   "execution_count": null,
   "metadata": {},
   "outputs": [],
   "source": []
  }
 ],
 "metadata": {
  "kernelspec": {
   "display_name": "Python 3 (ipykernel)",
   "language": "python",
   "name": "python3"
  },
  "language_info": {
   "codemirror_mode": {
    "name": "ipython",
    "version": 3
   },
   "file_extension": ".py",
   "mimetype": "text/x-python",
   "name": "python",
   "nbconvert_exporter": "python",
   "pygments_lexer": "ipython3",
   "version": "3.8.18"
  }
 },
 "nbformat": 4,
 "nbformat_minor": 4
}
