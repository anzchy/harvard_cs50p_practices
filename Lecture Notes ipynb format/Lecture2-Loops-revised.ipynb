{
 "cells": [
  {
   "cell_type": "markdown",
   "metadata": {
    "jp-MarkdownHeadingCollapsed": true
   },
   "source": [
    "## Lecture 2\n",
    "\n",
    "+   [Loops](#loops)\n",
    "+   [While Loops](#while-loops)\n",
    "+   [For Loops](#for-loops)\n",
    "+   [Improving with User Input](#improving-with-user-input)\n",
    "+   [More About Lists](#more-about-lists)\n",
    "+   [Length](#length)\n",
    "+   [Dictionaries](#dictionaries)\n",
    "+   [Mario](#mario)\n",
    "+   [Summing Up](#summing-up)"
   ]
  },
  {
   "cell_type": "markdown",
   "metadata": {},
   "source": [
    "## Loops\n",
    "\n",
    "+   Essentially, loops are a way to do something over and over again.\n",
    "+   Begin by typing `code cat.py` in the terminal window.\n",
    "+   In the text editor, begin with the following code:"
   ]
  },
  {
   "cell_type": "code",
   "execution_count": null,
   "metadata": {},
   "outputs": [],
   "source": [
    "    \n",
    "    \n",
    "    print(\"meow\")\n",
    "    print(\"meow\")\n",
    "    print(\"meow\")\n",
    "    "
   ]
  },
  {
   "cell_type": "markdown",
   "metadata": {},
   "source": [
    "    \n",
    "    Running this code by typing `python cat.py`, you’ll notice that the program meows three times.\n",
    "    \n",
    "+   In developing as a programmer, you want to consider how one could improve areas of one’s code where one types the same thing over and over again. Imagine where one might want to “meow” 500 times. Would it be logical to type that same expression of `print(\"meow\")` over and over again?\n",
    "+   Loops enable you to create a block of code that executes over and over again."
   ]
  },
  {
   "cell_type": "markdown",
   "metadata": {},
   "source": [
    "## While Loops\n",
    "\n",
    "+   The `while` loop is nearly universal throughout all coding languages.\n",
    "+   Such a loop will repeat a block of code over and over again.\n",
    "+   In the text editor window, edit your code as follows:"
   ]
  },
  {
   "cell_type": "code",
   "execution_count": null,
   "metadata": {},
   "outputs": [],
   "source": [
    "    \n",
    "    \n",
    "    i = 3\n",
    "    while i != 0:\n",
    "        print(\"meow\")\n",
    "    "
   ]
  },
  {
   "cell_type": "markdown",
   "metadata": {},
   "source": [
    "    \n",
    "    Notice how even though this code will execute `print(\"meow\")` multiple times, it will never stop! It will loop forever. `while` loops work by repeatedly asking if the condition of the loop has been fulfilled. In this case, the compiler is asking, “does `i` not equal zero?” When you get stuck in a loop that executes forever, you can press `control-c` on your keyboard to break out of the loop.\n",
    "    \n",
    "+   To fix this loop that lasts forever, we can edit our code as follows"
   ]
  },
  {
   "cell_type": "code",
   "execution_count": null,
   "metadata": {},
   "outputs": [],
   "source": [
    "    \n",
    "    \n",
    "    i = 3\n",
    "    while i != 0:\n",
    "      print(\"meow\")\n",
    "      i = i - 1\n",
    "    "
   ]
  },
  {
   "cell_type": "markdown",
   "metadata": {},
   "source": [
    "    \n",
    "    Notice that now our code executes properly, reducing `i` by `1` for each “iteration” through the loop. The term iteration has special significance within coding. By iteration, we mean one cycle through the loop. The first iteration is the “0th” iteration through the loop. The second is the “1st” iteration. In programming, we count starting with 0, then 1, then 2.\n",
    "    \n",
    "+   We can further improve our code as follows:"
   ]
  },
  {
   "cell_type": "code",
   "execution_count": null,
   "metadata": {},
   "outputs": [],
   "source": [
    "    \n",
    "    \n",
    "      i = 1\n",
    "      while i <= 3:\n",
    "          print(\"meow\")\n",
    "          i = i + 1\n",
    "    "
   ]
  },
  {
   "cell_type": "markdown",
   "metadata": {},
   "source": [
    "    \n",
    "    Notice that when we code `i = i + 1` we assign the value of `i` from the right to the left. Above, we are starting `i` at one, like most humans count (1, 2, 3). If you execute the code above, you’ll see it meows three times. It’s best practice in programming to begin counting with zero.\n",
    "    \n",
    "+   We can improve our code to start counting with zero:"
   ]
  },
  {
   "cell_type": "code",
   "execution_count": null,
   "metadata": {},
   "outputs": [],
   "source": [
    "    \n",
    "    \n",
    "    i = 0\n",
    "    while i < 3:\n",
    "        print(\"meow\")\n",
    "        i += 1\n",
    "    "
   ]
  },
  {
   "cell_type": "markdown",
   "metadata": {},
   "source": [
    "    \n",
    "    Notice how changing the operator to `i < 3` allows our code to function as intended. We begin by counting with 0 and it iterates through our loop three times, producing three meows. Also, notice how `i += 1` is the same as saying `i = i + 1`.\n",
    "    \n",
    "+   Our code at this point is illustrated as follows:"
   ]
  },
  {
   "cell_type": "code",
   "execution_count": null,
   "metadata": {},
   "outputs": [],
   "source": [
    "    \n",
    "    mermaid\n",
    "    flowchart TD\n",
    "      A([start]) --> B[i = 0]\n",
    "      B --> C{i < 3}\n",
    "      C -- True --> D[\"#quot;meow#quot;\"]\n",
    "      D --> E[i += 1]\n",
    "      E --> C\n",
    "      C -- False --> F([stop])\n",
    "    "
   ]
  },
  {
   "cell_type": "markdown",
   "metadata": {},
   "source": [
    "    \n",
    "    Notice how our loop counts i up to, but not through `3`.\n",
    "    "
   ]
  },
  {
   "cell_type": "markdown",
   "metadata": {},
   "source": [
    "## For Loops\n",
    "\n",
    "+   A `for` loop is a different type of loop.\n",
    "+   To best understand a `for` loop, it’s best to begin by talking about a new variable type called a `list` in Python. As in other areas of our lives, we can have a grocery list, a to-do list, etc.\n",
    "+   A `for` loop iterates through a `list` of items. For example, in the text editor window, modify your `cat.py` code as follows:"
   ]
  },
  {
   "cell_type": "code",
   "execution_count": null,
   "metadata": {},
   "outputs": [],
   "source": [
    "    \n",
    "    \n",
    "    for i in [0, 1, 2]:\n",
    "        print(\"meow\")\n",
    "    "
   ]
  },
  {
   "cell_type": "markdown",
   "metadata": {},
   "source": [
    "    \n",
    "    Notice how clean this code is compared to your previous `while` loop code. In this code, `i` begins with `0`, meows, `i` is assigned `1`, meows, and, finally, `i` is assigned `2`, meows, and then ends.\n",
    "    \n",
    "+   While this code accomplishes what we want, there are some possibilities for improving our code for extreme cases. At first glance, our code looks great. However, what if you wanted to iterate up to a million? It’s best to create code that can work with such extreme cases. Accordingly, we can improve our code as follows:"
   ]
  },
  {
   "cell_type": "code",
   "execution_count": null,
   "metadata": {},
   "outputs": [],
   "source": [
    "    \n",
    "    \n",
    "    for i in range(3):\n",
    "        print(\"meow\")\n",
    "    "
   ]
  },
  {
   "cell_type": "markdown",
   "metadata": {},
   "source": [
    "    \n",
    "    Notice how `range(3)` provides back three values (`0`, `1`, and `2`) automatically. This code will execute and produce the intended effect, meowing three times.\n",
    "    \n",
    "+   Our code can be further improved. Notice how we never use `i` explicitly in our code. That is, while Python needs the `i` as a place to store the number of the iteration of the loop, we never use it for any other purpose. In Python, if such a variable does not have any other significance in our code, we can simply represent this variable as a single underscore `_`. Therefore, you can modify your code as follows:"
   ]
  },
  {
   "cell_type": "code",
   "execution_count": null,
   "metadata": {},
   "outputs": [],
   "source": [
    "    \n",
    "    \n",
    "    for _ in range(3):\n",
    "        print(\"meow\")\n",
    "    "
   ]
  },
  {
   "cell_type": "markdown",
   "metadata": {},
   "source": [
    "    \n",
    "    Notice how changing the `i` to `_` has zero impact on the functioning of our program.\n",
    "    \n",
    "+   Our code can be further improved. To stretch your mind to the possibilities within Python, consider the following code:\n",
    "    \n",
    "    Notice how it will meow three times, but the program will produce `meowmeowmeow` as the result. Consider: How could you create a line break at the end of each meow?\n",
    "    \n",
    "+   Indeed, you can edit your code as follows:"
   ]
  },
  {
   "cell_type": "code",
   "execution_count": null,
   "metadata": {},
   "outputs": [],
   "source": [
    "    \n",
    "    \n",
    "    print(\"meow\\n\" * 3, end=\"\")\n",
    "    "
   ]
  },
  {
   "cell_type": "markdown",
   "metadata": {},
   "source": [
    "    \n",
    "    Notice how this code produces three meows, each on a separate line. By adding `end=\"\"` and the `\\n` we tell the compiler to add a line break at the end of each meow.\n",
    "    "
   ]
  },
  {
   "cell_type": "markdown",
   "metadata": {},
   "source": [
    "## Improving with User Input\n",
    "\n",
    "+   Perhaps we want to get input from our user. We can use loops as a way of validating the input of the user.\n",
    "+   A common paradigm within Python is to use a `while` loop to validate the input of the user.\n",
    "+   For example, let’s try prompting the user for a number greater than or equal 0:"
   ]
  },
  {
   "cell_type": "code",
   "execution_count": null,
   "metadata": {},
   "outputs": [],
   "source": [
    "    \n",
    "    \n",
    "    while True:\n",
    "        n = int(input(\"What's n? \"))\n",
    "        if n < 0:\n",
    "            continue\n",
    "        else:\n",
    "            break\n",
    "    "
   ]
  },
  {
   "cell_type": "markdown",
   "metadata": {},
   "source": [
    "    \n",
    "+   Notice that we’ve introduced two new keywords in Python, `continue` and `break`. `continue` explicitly tells Python to go to the next iteration of a loop. `break`, on the other hand, tells Python to “break out” of a loop early before it has finished all of its iterations. In this case, we’ll `continue` to the next iteration of the loop when `n` is less than 0—ultimately reprompting the user with “What’s n?”. If, though, `n` is greater than or equal to 0, we’ll `break` out of the loop and allow the rest of our program to run.\n",
    "+   It turns out that the `continue` keyword is redundant in this case. We can improve our code as follows:"
   ]
  },
  {
   "cell_type": "code",
   "execution_count": null,
   "metadata": {},
   "outputs": [],
   "source": [
    "    \n",
    "    \n",
    "    while True:\n",
    "        n = int(input(\"What's n? \"))\n",
    "        if n > 0:\n",
    "            break\n",
    "    \n",
    "    for _ in range(n):\n",
    "        print(\"meow\")\n",
    "    "
   ]
  },
  {
   "cell_type": "markdown",
   "metadata": {},
   "source": [
    "    \n",
    "    Notice how this while loop will always run (forever) until `n` is greater than `0`. When `n` is greater than `0`, the loop breaks.\n",
    "    \n",
    "+   Bringing in our prior learning, we can use functions to further improve our code:"
   ]
  },
  {
   "cell_type": "code",
   "execution_count": null,
   "metadata": {},
   "outputs": [],
   "source": [
    "    \n",
    "    \n",
    "    def main():\n",
    "        meow(get_number())\n",
    "    \n",
    "    \n",
    "    def get_number():\n",
    "        while True:\n",
    "            n = int(input(\"What's n? \"))\n",
    "            if n > 0:\n",
    "                return n\n",
    "    \n",
    "    \n",
    "    def meow(n):\n",
    "        for _ in range(n):\n",
    "            print(\"meow\")\n",
    "    \n",
    "    \n",
    "    main()\n",
    "    "
   ]
  },
  {
   "cell_type": "markdown",
   "metadata": {},
   "source": [
    "    \n",
    "    Notice how not only did we change your code to operate in multiple functions, but we also used a `return` statement to `return` the value of `n` back to the `main` function.\n",
    "    "
   ]
  },
  {
   "cell_type": "markdown",
   "metadata": {},
   "source": [
    "## More About Lists\n",
    "\n",
    "+   Consider the world of Hogwarts from the famed Harry Potter universe.\n",
    "+   In the terminal, type `code hogwarts.py`.\n",
    "+   In the text editor, code as follows:"
   ]
  },
  {
   "cell_type": "code",
   "execution_count": null,
   "metadata": {},
   "outputs": [],
   "source": [
    "    \n",
    "    \n",
    "    students = [\"Hermoine\", \"Harry\", \"Ron\"]\n",
    "    \n",
    "    print(students[0])\n",
    "    print(students[1])\n",
    "    print(students[2])\n",
    "    "
   ]
  },
  {
   "cell_type": "markdown",
   "metadata": {},
   "source": [
    "    \n",
    "    Notice how we have a `list` of students with their names as above. We then print the student who is at the 0th location, “Hermoine”. Each of the other students is printed as well.\n",
    "    \n",
    "+   Just as we illustrated previously, we can use a loop to iterate over the list. You can improve your code as follows:"
   ]
  },
  {
   "cell_type": "code",
   "execution_count": null,
   "metadata": {},
   "outputs": [],
   "source": [
    "    \n",
    "    \n",
    "    students = [\"Hermoine\", \"Harry\", \"Ron\"]\n",
    "    \n",
    "    for student in students:\n",
    "        print(student)\n",
    "    "
   ]
  },
  {
   "cell_type": "markdown",
   "metadata": {},
   "source": [
    "    \n",
    "    Notice that for each `student` in the `students` list, it will print the student as intended. You might wonder why we did not use the `_` designation as discussed prior. We choose not to do this because `student` is explicitly used in our code.\n",
    "    \n",
    "+   You can learn more in Python’s documentation of [lists](https://docs.python.org/3/tutorial/datastructures.html#more-on-lists)."
   ]
  },
  {
   "cell_type": "markdown",
   "metadata": {},
   "source": [
    "## Length\n",
    "\n",
    "+   We can utilize `len` as a way of checking the length of the `list` called `students`.\n",
    "+   Imagine that you don’t simply want to print the name of the student but also their position in the list. To accomplish this, you can edit your code as follows:"
   ]
  },
  {
   "cell_type": "code",
   "execution_count": null,
   "metadata": {},
   "outputs": [],
   "source": [
    "    \n",
    "    \n",
    "    students = [\"Hermoine\", \"Harry\", \"Ron\"]\n",
    "    \n",
    "    for i in range(len(students)):\n",
    "        print(i + 1, students[i])\n",
    "    "
   ]
  },
  {
   "cell_type": "markdown",
   "metadata": {},
   "source": [
    "    \n",
    "    Notice how executing this code results in not only getting the position of each student plus one using `i + 1`, but also prints the name of each student. `len` allows you to dynamically see how long the list of the students is regardless of how much it grows.\n",
    "    \n",
    "+   You can learn more in Python’s documentation of [len](https://docs.python.org/3/library/functions.html?highlight=len#len)."
   ]
  },
  {
   "cell_type": "markdown",
   "metadata": {},
   "source": [
    "## Dictionaries\n",
    "\n",
    "+   `dict`s or dictionaries is a data structure that allows you to associate keys with values.\n",
    "+   Where a `list` is a list of multiple values, a `dict` associates a key with a value.\n",
    "+   Considering the houses of Hogwarts, we might assign specific students to specific houses.\n",
    "    \n",
    "    ![Harry Potter Names.](https://cs50.harvard.edu/python/2022/notes/2/cs50pWeek2Slide17.png \"Harry Potter Names.\")\n",
    "    \n",
    "+   We could use `list`s alone to accomplish this:"
   ]
  },
  {
   "cell_type": "code",
   "execution_count": null,
   "metadata": {},
   "outputs": [],
   "source": [
    "    \n",
    "    \n",
    "    students = [\"Hermoine\", \"Harry\", \"Ron\", \"Draco\"]\n",
    "    houses = [\"Gryffindor\", \"Gryffindor\", \"Griffindor\", \"Slytherin\"]\n",
    "    "
   ]
  },
  {
   "cell_type": "markdown",
   "metadata": {},
   "source": [
    "    \n",
    "    Notice that we can promise that we will always keep these lists in order. The individual at the first position of `students` is associated with the house at the first position of the `houses` list, and so on. However, this can become quite cumbersome as our lists grow!\n",
    "    \n",
    "+   We can better our code using a `dict` as follows:"
   ]
  },
  {
   "cell_type": "code",
   "execution_count": null,
   "metadata": {},
   "outputs": [],
   "source": [
    "    \n",
    "    \n",
    "    students = {\n",
    "        \"Hermoine\": \"Gryffindor\",\n",
    "        \"Harry\": \"Gryffindor\",\n",
    "        \"Ron\": \"Gryffindor\",\n",
    "        \"Draco\": \"Slytherin\",\n",
    "    }\n",
    "    print(students[\"Hermoine\"])\n",
    "    print(students[\"Harry\"])\n",
    "    print(students[\"Ron\"])\n",
    "    print(students[\"Draco\"])\n",
    "    "
   ]
  },
  {
   "cell_type": "markdown",
   "metadata": {},
   "source": [
    "    \n",
    "    Notice how we use `{}` curly braces to create a dictionary. Where `list`s use numbers to iterate through the list, `dict`s allow us to use words.\n",
    "    \n",
    "+   Run your code and make sure your output is as follows:"
   ]
  },
  {
   "cell_type": "code",
   "execution_count": null,
   "metadata": {},
   "outputs": [],
   "source": [
    "    \n",
    "    \n",
    "    $ python hogwarts.py\n",
    "    Gryffindor\n",
    "    Gryffindor\n",
    "    Gryffindor\n",
    "    Slytherin\n",
    "    "
   ]
  },
  {
   "cell_type": "markdown",
   "metadata": {},
   "source": [
    "    \n",
    "+   We can improve our code as follows:"
   ]
  },
  {
   "cell_type": "code",
   "execution_count": null,
   "metadata": {},
   "outputs": [],
   "source": [
    "    \n",
    "    \n",
    "    students = {\n",
    "        \"Hermoine\": \"Gryffindor\",\n",
    "        \"Harry\": \"Gryffindor\",\n",
    "        \"Ron\": \"Gryffindor\",\n",
    "        \"Draco\": \"Slytherin\",\n",
    "    }\n",
    "    for student in students:\n",
    "        print(student)\n",
    "    "
   ]
  },
  {
   "cell_type": "markdown",
   "metadata": {},
   "source": [
    "    \n",
    "    Notice how, executing this code, the for loop will only iterate through all the keys, resulting in a list of the names of the students. How could we print out both values and keys?\n",
    "    \n",
    "+   Modify your code as follows:"
   ]
  },
  {
   "cell_type": "code",
   "execution_count": null,
   "metadata": {},
   "outputs": [],
   "source": [
    "    \n",
    "    \n",
    "    students = {\n",
    "        \"Hermoine\": \"Gryffindor\",\n",
    "        \"Harry\": \"Gryffindor\",\n",
    "        \"Ron\": \"Gryffindor\",\n",
    "        \"Draco\": \"Slytherin\",\n",
    "    }\n",
    "    for student in students:\n",
    "        print(student, students[student])\n",
    "    "
   ]
  },
  {
   "cell_type": "markdown",
   "metadata": {},
   "source": [
    "    \n",
    "    Notice how `students[student]` will go to each student’s key and find the value of their house. Execute your code, and you’ll notice how the output is a bit messy.\n",
    "    \n",
    "+   We can clean up the print function by improving our code as follows:"
   ]
  },
  {
   "cell_type": "code",
   "execution_count": null,
   "metadata": {},
   "outputs": [],
   "source": [
    "    \n",
    "    \n",
    "    students = {\n",
    "        \"Hermoine\": \"Gryffindor\",\n",
    "        \"Harry\": \"Gryffindor\",\n",
    "        \"Ron\": \"Gryffindor\",\n",
    "        \"Draco\": \"Slytherin\",\n",
    "    }\n",
    "    for student in students:\n",
    "        print(student, students[student], sep=\", \")\n",
    "    "
   ]
  },
  {
   "cell_type": "markdown",
   "metadata": {},
   "source": [
    "    \n",
    "    Notice how this creates a clean separation of a `,` between each item printed.\n",
    "    \n",
    "+   If you execute `python hogwarts.py`, you should see the following:"
   ]
  },
  {
   "cell_type": "code",
   "execution_count": null,
   "metadata": {},
   "outputs": [],
   "source": [
    "    \n",
    "    \n",
    "    $ python hogwarts.py\n",
    "    Hermoine, Gryffindor\n",
    "    Harry, Gryffindor\n",
    "    Ron, Gryffindor\n",
    "    Draco, Slytherin\n",
    "    "
   ]
  },
  {
   "cell_type": "markdown",
   "metadata": {},
   "source": [
    "    \n",
    "+   What if we have more information about our students? How could we associate more data with each of the students?\n",
    "    \n",
    "    ![Harry Potter Names.](https://cs50.harvard.edu/python/2022/notes/2/cs50pWeek2Slide18.png \"Harry Potter Names.\")\n",
    "    \n",
    "+   You can imagine wanting to have lots of data associated with multiple keys. Enhance your code as follows:"
   ]
  },
  {
   "cell_type": "code",
   "execution_count": null,
   "metadata": {},
   "outputs": [],
   "source": [
    "    \n",
    "    \n",
    "    students = [\n",
    "        {\"name\": \"Hermoine\", \"house\": \"Gryffindor\", \"patronus\": \"Otter\"},\n",
    "        {\"name\": \"Harry\", \"house\": \"Gryffindor\", \"patronus\": \"Stag\"},\n",
    "        {\"name\": \"Ron\", \"house\": \"Gryffindor\", \"patronus\": \"Jack Russell terrier\"},\n",
    "        {\"name\": \"Draco\", \"house\": \"Slytherin\", \"patronus\": None},\n",
    "    ]\n",
    "    "
   ]
  },
  {
   "cell_type": "markdown",
   "metadata": {},
   "source": [
    "    \n",
    "    Notice how this code creates a `list` of `dict`s. The `list` called `students` has four `dicts` within it: One for each student. Also, notice that Python has a special `None` designation where there is no value associated with a key.\n",
    "    \n",
    "+   Now, you have access to a whole host of interesting data about these students. Now, further modify your code as follows:"
   ]
  },
  {
   "cell_type": "code",
   "execution_count": null,
   "metadata": {},
   "outputs": [],
   "source": [
    "    \n",
    "    \n",
    "    students = [\n",
    "        {\"name\": \"Hermoine\", \"house\": \"Gryffindor\", \"patronus\": \"Otter\"},\n",
    "        {\"name\": \"Harry\", \"house\": \"Gryffindor\", \"patronus\": \"Stag\"},\n",
    "        {\"name\": \"Ron\", \"house\": \"Gryffindor\", \"patronus\": \"Jack Russell terrier\"},\n",
    "        {\"name\": \"Draco\", \"house\": \"Slytherin\", \"patronus\": None},\n",
    "    ]\n",
    "    \n",
    "    for student in students:\n",
    "        print(student[\"name\"], student[\"house\"], student[\"patronus\"], sep=\", \")\n",
    "    "
   ]
  },
  {
   "cell_type": "markdown",
   "metadata": {},
   "source": [
    "    \n",
    "    Notice how the `for` loop will iterate through each of the `dict`s inside the `list` called `students`.\n",
    "    \n",
    "+   You can learn more in Python’s Documentation of [`dict`s](https://docs.python.org/3/tutorial/datastructures.html#dictionaries)."
   ]
  },
  {
   "cell_type": "markdown",
   "metadata": {},
   "source": [
    "## Mario\n",
    "\n",
    "+   Remember that the classic game Mario has a hero jumping over bricks. Let’s create a textual representation of this game.\n",
    "    \n",
    "    ![Mario Block.](https://cs50.harvard.edu/python/2022/notes/2/cs50pWeek2Slide21.png \"Mario Block.\")\n",
    "    \n",
    "+   Begin coding as follows:"
   ]
  },
  {
   "cell_type": "code",
   "execution_count": null,
   "metadata": {},
   "outputs": [],
   "source": [
    "    \n",
    "    \n",
    "    print(\"#\")\n",
    "    print(\"#\")\n",
    "    print(\"#\")\n",
    "    "
   ]
  },
  {
   "cell_type": "markdown",
   "metadata": {},
   "source": [
    "    \n",
    "    Notice how we are copying and pasting the same code over and over again.\n",
    "    \n",
    "+   Consider how we could better the code as follows:"
   ]
  },
  {
   "cell_type": "code",
   "execution_count": null,
   "metadata": {},
   "outputs": [],
   "source": [
    "    \n",
    "    \n",
    "    for _ in range(3):\n",
    "        print(\"#\")\n",
    "    "
   ]
  },
  {
   "cell_type": "markdown",
   "metadata": {},
   "source": [
    "    \n",
    "    Notice how this accomplishes essentially what we want to create.\n",
    "    \n",
    "+   Consider: Could we further abstract for solving more sophisticated problems later with this code? Modify your code as follows:"
   ]
  },
  {
   "cell_type": "code",
   "execution_count": null,
   "metadata": {},
   "outputs": [],
   "source": [
    "    \n",
    "    \n",
    "    def main():\n",
    "        print_column(3)\n",
    "    \n",
    "    \n",
    "    def print_column(height):\n",
    "        for _ in range(height):\n",
    "            print(\"#\")\n",
    "    \n",
    "    \n",
    "    main()\n",
    "    "
   ]
  },
  {
   "cell_type": "markdown",
   "metadata": {},
   "source": [
    "    \n",
    "    Notice how our column can grow as much as we want without any hard coding.\n",
    "    \n",
    "+   Now, let’s try to print a row horizontally. Modify your code as follows:"
   ]
  },
  {
   "cell_type": "code",
   "execution_count": null,
   "metadata": {},
   "outputs": [],
   "source": [
    "    \n",
    "    \n",
    "    def main():\n",
    "        print_row(4)\n",
    "    \n",
    "    \n",
    "    def print_row(width):\n",
    "        print(\"?\" * width)\n",
    "    \n",
    "    \n",
    "    main()\n",
    "    "
   ]
  },
  {
   "cell_type": "markdown",
   "metadata": {},
   "source": [
    "    \n",
    "    Notice how we now have code that can create left-to-right blocks.\n",
    "    \n",
    "+   Examining the slide below, notice how Mario has both rows and columns of blocks.\n",
    "    \n",
    "    ![Mario Underground.](https://cs50.harvard.edu/python/2022/notes/2/cs50pWeek2Slide24.png \"Mario Underground.\")\n",
    "    \n",
    "+   Consider: How could we implement both rows and columns within our code? Modify your code as follows:"
   ]
  },
  {
   "cell_type": "code",
   "execution_count": null,
   "metadata": {},
   "outputs": [],
   "source": [
    "    \n",
    "    \n",
    "    def main():\n",
    "        print_square(3)\n",
    "    \n",
    "    \n",
    "    def print_square(size):\n",
    "    \n",
    "        # For each row in square\n",
    "        for i in range(size):\n",
    "    \n",
    "            # For each brick in row\n",
    "            for j in range(size):\n",
    "    \n",
    "                #  Print brick\n",
    "                print(\"#\", end=\"\")\n",
    "    \n",
    "            # Print blank line\n",
    "            print()\n",
    "    \n",
    "    \n",
    "    main()\n",
    "    "
   ]
  },
  {
   "cell_type": "markdown",
   "metadata": {},
   "source": [
    "    \n",
    "    Notice that we have an outer loop that addresses each row in the square. Then, we have an inner loop that prints a brick in each row. Finally, we have a `print` statement that prints a blank line.\n",
    "    \n",
    "+   We can further abstract away our code:"
   ]
  },
  {
   "cell_type": "code",
   "execution_count": null,
   "metadata": {},
   "outputs": [],
   "source": [
    "    \n",
    "    \n",
    "    def main():\n",
    "        print_square(3)\n",
    "    \n",
    "    \n",
    "    def print_square(size):\n",
    "        for i in range(size):\n",
    "            print_row(size)\n",
    "    \n",
    "    \n",
    "    def print_row(width):\n",
    "        print(\"#\" * width)\n",
    "    \n",
    "    \n",
    "    main()\n",
    "    \n",
    "    "
   ]
  },
  {
   "cell_type": "markdown",
   "metadata": {},
   "source": [
    "## Summing Up\n",
    "\n",
    "You now have another power in your growing list of your Python abilities. In this lecture, we addressed…\n",
    "\n",
    "+   Loops\n",
    "+   `while`\n",
    "+   `for`\n",
    "+   `len`\n",
    "+   `list`\n",
    "+   `dict`"
   ]
  },
  {
   "cell_type": "code",
   "execution_count": null,
   "metadata": {},
   "outputs": [],
   "source": []
  }
 ],
 "metadata": {
  "kernelspec": {
   "display_name": "Python 3 (ipykernel)",
   "language": "python",
   "name": "python3"
  },
  "language_info": {
   "codemirror_mode": {
    "name": "ipython",
    "version": 3
   },
   "file_extension": ".py",
   "mimetype": "text/x-python",
   "name": "python",
   "nbconvert_exporter": "python",
   "pygments_lexer": "ipython3",
   "version": "3.8.18"
  }
 },
 "nbformat": 4,
 "nbformat_minor": 4
}
