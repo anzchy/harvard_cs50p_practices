{
 "cells": [
  {
   "cell_type": "markdown",
   "metadata": {
    "jp-MarkdownHeadingCollapsed": true
   },
   "source": [
    "## Lecture 9\n",
    "\n",
    "+   [Et Cetera](#et-cetera)\n",
    "+   [`set`](#set)\n",
    "+   [Global Variables](#global-variables)\n",
    "+   [Constants](#constants)\n",
    "+   [Type Hints](#type-hints)\n",
    "+   [Docstrings](#docstrings)\n",
    "+   [`argparse`](#argparse)\n",
    "+   [Unpacking](#unpacking)\n",
    "+   [`args` and `kwargs`](#args-and-kwargs)\n",
    "+   [`map`](#map)\n",
    "+   [List Comprehensions](#list-comprehensions)\n",
    "+   [`filter`](#filter)\n",
    "+   [Dictionary Comprehensions](#dictionary-comprehensions)\n",
    "+   [`enumerate`](#enumerate)\n",
    "+   [Generators and Iterators](#generators-and-iterators)\n",
    "+   [Congratulations!](#congratulations)\n",
    "+   [This was CS50!](#this-was-cs50)"
   ]
  },
  {
   "cell_type": "markdown",
   "metadata": {},
   "source": [
    "## Et Cetera\n",
    "\n",
    "+   Over the many past lessons, we have covered so much related to Python!\n",
    "+   In this lesson, we will be focusing upon many of the “et cetera” items not previously discussed. “Et cetera” literally means “and the rest”!\n",
    "+   Indeed, if you look at the Python documentation, you will find quite “the rest” of other features."
   ]
  },
  {
   "cell_type": "markdown",
   "metadata": {},
   "source": [
    "## `set`\n",
    "\n",
    "+   In math, a set would be considered a set of numbers without any duplicates.\n",
    "+   In the text editor window, code as follows:"
   ]
  },
  {
   "cell_type": "code",
   "execution_count": null,
   "metadata": {},
   "outputs": [],
   "source": [
    "    \n",
    "    \n",
    "    students = [\n",
    "        {\"name\": \"Hermione\", \"house\": \"Gryffindor\"},\n",
    "        {\"name\": \"Harry\", \"house\": \"Gryffindor\"},\n",
    "        {\"name\": \"Ron\", \"house\": \"Gryffindor\"},\n",
    "        {\"name\": \"Draco\", \"house\": \"Slytherin\"},\n",
    "        {\"name\": \"Padma\", \"house\": \"Ravenclaw\"},\n",
    "    ]\n",
    "    \n",
    "    houses = []\n",
    "    for student in students:\n",
    "        if student[\"house\"] not in houses:\n",
    "            houses.append(student[\"house\"])\n",
    "    \n",
    "    for house in sorted(houses):\n",
    "        print(house)\n",
    "    "
   ]
  },
  {
   "cell_type": "markdown",
   "metadata": {},
   "source": [
    "    \n",
    "    Notice how we have a list of dictionaries, each being a student. An empty list called `houses` is created. We iterate through each `student` in `students`. If a student’s `house` is not in `houses`, we append to our list of `houses`.\n",
    "    \n",
    "+   It turns out we can use the built-in `set` features to eliminate duplicates.\n",
    "+   In the text editor window, code as follows:"
   ]
  },
  {
   "cell_type": "code",
   "execution_count": null,
   "metadata": {},
   "outputs": [],
   "source": [
    "    \n",
    "    \n",
    "    students = [\n",
    "        {\"name\": \"Hermione\", \"house\": \"Gryffindor\"},\n",
    "        {\"name\": \"Harry\", \"house\": \"Gryffindor\"},\n",
    "        {\"name\": \"Ron\", \"house\": \"Gryffindor\"},\n",
    "        {\"name\": \"Draco\", \"house\": \"Slytherin\"},\n",
    "        {\"name\": \"Padma\", \"house\": \"Ravenclaw\"},\n",
    "    ]\n",
    "    \n",
    "    houses = set()\n",
    "    for student in students:\n",
    "        houses.add(student[\"house\"])\n",
    "    \n",
    "    for house in sorted(houses):\n",
    "        print(house)\n",
    "    "
   ]
  },
  {
   "cell_type": "markdown",
   "metadata": {},
   "source": [
    "    \n",
    "    Notice how no checking needs to be included to ensure there are no duplicates. The `set` object takes care of this for us automatically.\n",
    "    \n",
    "+   You can learn more in Python’s documentation of [`set`](https://docs.python.org/3/library/stdtypes.html#set)."
   ]
  },
  {
   "cell_type": "markdown",
   "metadata": {},
   "source": [
    "## Global Variables\n",
    "\n",
    "+   In other programming languages, there is the notion of global variables that are accessible to any function.\n",
    "+   We can leverage this ability within Python. In the text editor window, code as follows:\n",
    "  "
   ]
  },
  {
   "cell_type": "code",
   "execution_count": null,
   "metadata": {},
   "outputs": [],
   "source": [
    "  \n",
    "    \n",
    "    balance = 0\n",
    "    \n",
    "    \n",
    "    def main():\n",
    "        print(\"Balance:\", balance)\n",
    "    \n",
    "    \n",
    "    if __name__ == \"__main__\":\n",
    "        main()\n",
    "    "
   ]
  },
  {
   "cell_type": "markdown",
   "metadata": {},
   "source": [
    "    \n",
    "    Notice how we create a global variable called `balance`, outside of any function.\n",
    "    \n",
    "+   Since no errors are presented by executing the code above, you’d think all is well. However, it is not! In the text editor window, code as follows:\n",
    "    "
   ]
  },
  {
   "cell_type": "code",
   "execution_count": null,
   "metadata": {},
   "outputs": [],
   "source": [
    "    \n",
    "    balance = 0\n",
    "    \n",
    "    \n",
    "    def main():\n",
    "        print(\"Balance:\", balance)\n",
    "        deposit(100)\n",
    "        withdraw(50)\n",
    "        print(\"Balance:\", balance)\n",
    "    \n",
    "    \n",
    "    def deposit(n):\n",
    "        balance += n\n",
    "    \n",
    "    \n",
    "    def withdraw(n):\n",
    "        balance -= n\n",
    "    \n",
    "    \n",
    "    if __name__ == \"__main__\":\n",
    "        main()\n",
    "    "
   ]
  },
  {
   "cell_type": "markdown",
   "metadata": {},
   "source": [
    "    \n",
    "    Notice how we now add the functionality to add and withdraw funds to and from `balance`. However, executing this code, we are presented with an error! We see an error called `UnboundLocalError`. You might be able to guess that, at least in the way we’ve currently coded `balance` and our `deposit` and `withdraw` functions, we can’t reassign it a value value inside a function.\n",
    "    \n",
    "+   To interact with a global variable inside a function, the solution is to use the `global` keyword. In the text editor window, code as follows:"
   ]
  },
  {
   "cell_type": "code",
   "execution_count": null,
   "metadata": {},
   "outputs": [],
   "source": [
    "    \n",
    "    \n",
    "    balance = 0\n",
    "    \n",
    "    \n",
    "    def main():\n",
    "        print(\"Balance:\", balance)\n",
    "        deposit(100)\n",
    "        withdraw(50)\n",
    "        print(\"Balance:\", balance)\n",
    "    \n",
    "    \n",
    "    def deposit(n):\n",
    "        global balance\n",
    "        balance += n\n",
    "    \n",
    "    \n",
    "    def withdraw(n):\n",
    "        global balance\n",
    "        balance -= n\n",
    "    \n",
    "    \n",
    "    if __name__ == \"__main__\":\n",
    "        main()\n",
    "    "
   ]
  },
  {
   "cell_type": "markdown",
   "metadata": {},
   "source": [
    "    \n",
    "    Notice how the `global` keyword tells each function that `balance` does not refer to a local variable: instead, it refers to the global variable we originally placed at the top of our code. Now, our code functions!\n",
    "    \n",
    "+   Utilizing our powers from our experience with object-oriented programming, we can modify our code to use a class instead of a global variable. In the text editor window, code as follows:"
   ]
  },
  {
   "cell_type": "code",
   "execution_count": null,
   "metadata": {},
   "outputs": [],
   "source": [
    "    \n",
    "    \n",
    "    class Account:\n",
    "        def __init__(self):\n",
    "            self._balance = 0\n",
    "    \n",
    "        @property\n",
    "        def balance(self):\n",
    "            return self._balance\n",
    "    \n",
    "        def deposit(self, n):\n",
    "            self._balance += n\n",
    "    \n",
    "        def withdraw(self, n):\n",
    "            self._balance -= n\n",
    "    \n",
    "    \n",
    "    def main():\n",
    "        account = Account()\n",
    "        print(\"Balance:\", account.balance)\n",
    "        account.deposit(100)\n",
    "        account.withdraw(50)\n",
    "        print(\"Balance:\", account.balance)\n",
    "    \n",
    "    \n",
    "    if __name__ == \"__main__\":\n",
    "        main()\n",
    "    "
   ]
  },
  {
   "cell_type": "markdown",
   "metadata": {},
   "source": [
    "    \n",
    "    Notice how we use `account = Account()` to create an account. Classes allow us to solve this issue of needing a global variable more cleanly because these instance variables are accessible to all the methods of this class utilizing `self`.\n",
    "    \n",
    "+   Generally speaking, global variables should be used quite sparingly, if at all!"
   ]
  },
  {
   "cell_type": "markdown",
   "metadata": {},
   "source": [
    "## Constants\n",
    "\n",
    "+   Some languages allow you to create variables that are unchangeable, called “constants”. Constants allow one to program defensively and reduce the opportunities for important values to be altered.\n",
    "+   In the text editor window, code as follows:"
   ]
  },
  {
   "cell_type": "code",
   "execution_count": null,
   "metadata": {},
   "outputs": [],
   "source": [
    "    \n",
    "    \n",
    "    \n",
    "    MEOWS = 3\n",
    "    \n",
    "    for _ in range(MEOWS):\n",
    "        print(\"meow\")\n",
    "    "
   ]
  },
  {
   "cell_type": "markdown",
   "metadata": {},
   "source": [
    "    \n",
    "    Notice `MEOWS` is our constant in this case. Constants are typically denoted by capital variable names and are placed at the top of our code. Though this *looks* like a constant, in reality, Python actually has no mechanism to prevent us from changing that value within our code! Instead, you’re on the honor system: if a variable name is written in all caps, just don’t change it!\n",
    "    \n",
    "+   One can create a class “constant”, now in quotes because we know Python doesn’t quite support “constants”. In the text editor window, code as follows:"
   ]
  },
  {
   "cell_type": "code",
   "execution_count": null,
   "metadata": {},
   "outputs": [],
   "source": [
    "    \n",
    "    \n",
    "    class Cat:\n",
    "        MEOWS = 3\n",
    "    \n",
    "        def meow(self):\n",
    "            for _ in range(Cat.MEOWS):\n",
    "                print(\"meow\")\n",
    "    \n",
    "    \n",
    "    cat = Cat()\n",
    "    cat.meow()\n",
    "    "
   ]
  },
  {
   "cell_type": "markdown",
   "metadata": {},
   "source": [
    "    \n",
    "    Because `MEOWS` is defined outside of any particular class method, all of them have access to that value via `Cat.MEOWS`.\n",
    "    \n",
    "\n",
    "## Type Hints\n",
    "\n",
    "+   In other programming languages, one expresses explicitly what variable type you want to use.\n",
    "+   As we saw earlier in the course, Python does not require the explicit declaration of types.\n",
    "+   Nevertheless, it’s good practice need to ensure all of your variables are of the right type.\n",
    "+   `mypy` is a program that can help you test to make sure all your variables are of the right type.\n",
    "+   You can install `mypy` by executing in your terminal window: `pip install mypy`.\n",
    "\n",
    "In the text editor window, code as follows:"
   ]
  },
  {
   "cell_type": "code",
   "execution_count": null,
   "metadata": {},
   "outputs": [],
   "source": [
    "\n",
    "  def meow(n):\n",
    "      for _ in range(n):\n",
    "          print(\"meow\")\n",
    "\n",
    "\n",
    "  number = input(\"Number: \")\n",
    "  meow(number)\n"
   ]
  },
  {
   "cell_type": "markdown",
   "metadata": {},
   "source": [
    "You may already see that `number = input(\"Number: )\"` returns a `string`, not an `int`. But `meow` will likely want an `int`!\n",
    "\n",
    "+   A type hint can be added to give Python a hint of what type of variable `meow` should expect. In the text editor window, code as follows:"
   ]
  },
  {
   "cell_type": "code",
   "execution_count": null,
   "metadata": {},
   "outputs": [],
   "source": [
    "    \n",
    "    \n",
    "    def meow(n: int):\n",
    "        for _ in range(n):\n",
    "            print(\"meow\")\n",
    "    \n",
    "    \n",
    "    number = input(\"Number: \")\n",
    "    meow(number)\n",
    "    "
   ]
  },
  {
   "cell_type": "markdown",
   "metadata": {},
   "source": [
    "    \n",
    "    Notice, though, that our program still throws an error.\n",
    "    \n",
    "+   After installing `mypy`, execute `mypy meows.py` in the terminal window. `mypy` will provide some guidance about how to fix this error.\n",
    "+   You can annotate all your variables. In the text editor window, code as follows:"
   ]
  },
  {
   "cell_type": "code",
   "execution_count": null,
   "metadata": {},
   "outputs": [],
   "source": [
    "    \n",
    "    \n",
    "    def meow(n: int):\n",
    "        for _ in range(n):\n",
    "            print(\"meow\")\n",
    "    \n",
    "    \n",
    "    number: int = input(\"Number: \")\n",
    "    meow(number)\n",
    "    "
   ]
  },
  {
   "cell_type": "markdown",
   "metadata": {},
   "source": [
    "    \n",
    "    Notice how `number` is now provided a type hint.\n",
    "    \n",
    "+   Again, executing `mypy meows.py` in the terminal window provides much more specific feedback to you, the programmer.\n",
    "+   We can fix our final error by coding as follows:"
   ]
  },
  {
   "cell_type": "code",
   "execution_count": null,
   "metadata": {},
   "outputs": [],
   "source": [
    "    \n",
    "    \n",
    "    def meow(n: int):\n",
    "        for _ in range(n):\n",
    "            print(\"meow\")\n",
    "    \n",
    "    \n",
    "    number: int = int(input(\"Number: \"))\n",
    "    meow(number)\n",
    "    "
   ]
  },
  {
   "cell_type": "markdown",
   "metadata": {},
   "source": [
    "    \n",
    "    Notice how running `mypy` how produces no errors because cast our input as an integer.\n",
    "    \n",
    "+   Let’s introduce a new error by assuming that `meow` will return to us a string, or `str`. In the text editor window, code as follows:"
   ]
  },
  {
   "cell_type": "code",
   "execution_count": null,
   "metadata": {},
   "outputs": [],
   "source": [
    "    \n",
    "    \n",
    "    def meow(n: int):\n",
    "        for _ in range(n):\n",
    "            print(\"meow\")\n",
    "    \n",
    "    \n",
    "    number: int = int(input(\"Number: \"))\n",
    "    meows: str = meow(number)\n",
    "    print(meows)\n",
    "    "
   ]
  },
  {
   "cell_type": "markdown",
   "metadata": {},
   "source": [
    "    \n",
    "    Notice how the `meow` function has only a side effect. Because we only attempt to print “meow”, not return a value, an error is thrown when we try to store the return value of `meow` in `meows`.\n",
    "    \n",
    "+   We can further use type hints to check for errors, this time annotating the return values of functions. In the text editor window, code as follows:"
   ]
  },
  {
   "cell_type": "code",
   "execution_count": null,
   "metadata": {},
   "outputs": [],
   "source": [
    "    \n",
    "    \n",
    "    def meow(n: int) -> None:\n",
    "        for _ in range(n):\n",
    "            print(\"meow\")\n",
    "    \n",
    "    \n",
    "    number: int = int(input(\"Number: \"))\n",
    "    meows: str = meow(number)\n",
    "    print(meows)\n",
    "    "
   ]
  },
  {
   "cell_type": "markdown",
   "metadata": {},
   "source": [
    "    \n",
    "    Notice how the notation `-> None` tells `mypy` that there is no return value.\n",
    "    \n",
    "+   We can modify our code to return a string if we wish:"
   ]
  },
  {
   "cell_type": "code",
   "execution_count": null,
   "metadata": {},
   "outputs": [],
   "source": [
    "    \n",
    "    \n",
    "    def meow(n: int) -> str:\n",
    "        return \"meow\\n\" * n\n",
    "    \n",
    "    \n",
    "    number: int = int(input(\"Number: \"))\n",
    "    meows: str = meow(number)\n",
    "    print(meows, end=\"\")\n",
    "    "
   ]
  },
  {
   "cell_type": "markdown",
   "metadata": {},
   "source": [
    "    \n",
    "    Notice how we store in `meows` multiple `str`s. Running `mypy` produces no errors.\n",
    "    \n",
    "+   You can learn more in Python’s documentation of [Type Hints](https://docs.python.org/3/library/typing.html).\n",
    "+   You can learn more about [`mypy`](https://mypy.readthedocs.io/) through the program’s own documentation."
   ]
  },
  {
   "cell_type": "markdown",
   "metadata": {},
   "source": [
    "## Docstrings\n",
    "\n",
    "+   A standard way of commenting your function’s purpose is to use a docstring. In the text editor window, code as follows:"
   ]
  },
  {
   "cell_type": "code",
   "execution_count": null,
   "metadata": {},
   "outputs": [],
   "source": [
    "    \n",
    "    \n",
    "    def meow(n):\n",
    "        \"\"\"Meow n times.\"\"\"\n",
    "        return \"meow\\n\" * n\n",
    "    \n",
    "    \n",
    "    number = int(input(\"Number: \"))\n",
    "    meows = meow(number)\n",
    "    print(meows, end=\"\")\n",
    "    "
   ]
  },
  {
   "cell_type": "markdown",
   "metadata": {},
   "source": [
    "    \n",
    "    Notice how the three double quotes designate what the function does.\n",
    "    \n",
    "+   You can use docstrings to standardize how you document the features of a function. In the text editor window, code as follows: s"
   ]
  },
  {
   "cell_type": "code",
   "execution_count": null,
   "metadata": {},
   "outputs": [],
   "source": [
    "    \n",
    "    \n",
    "    def meow(n):\n",
    "        \"\"\"\n",
    "        Meow n times.\n",
    "    \n",
    "        :param n: Number of times to meow\n",
    "        :type n: int\n",
    "        :raise TypeError: If n is not an int\n",
    "        :return: A string of n meows, one per line\n",
    "        :rtype: str\n",
    "        \"\"\"\n",
    "        return \"meow\\n\" * n\n",
    "    \n",
    "    \n",
    "    number = int(input(\"Number: \"))\n",
    "    meows = meow(number)\n",
    "    print(meows, end=\"\")\n",
    "    "
   ]
  },
  {
   "cell_type": "markdown",
   "metadata": {},
   "source": [
    "    \n",
    "    Notice how multiple docstring arguments are included. For example, it describes the parameters taken by the function and what is returned by the function.\n",
    "    \n",
    "+   Established tools, such as [Sphinx](https://www.sphinx-doc.org/en/master/index.html), can be used to parse docstrings and automatically create documentation for us in the form of web pages and PDF files such that you can publish and share with others.\n",
    "+   You can learn more in Python’s documentation of [docstrings](https://peps.python.org/pep-0257/)."
   ]
  },
  {
   "cell_type": "markdown",
   "metadata": {},
   "source": [
    "## `argparse`\n",
    "\n",
    "+   Suppose we want to use command-line arguments in our program. In the text editor window, code as follows:"
   ]
  },
  {
   "cell_type": "code",
   "execution_count": null,
   "metadata": {},
   "outputs": [],
   "source": [
    "    \n",
    "    \n",
    "    import sys\n",
    "    \n",
    "    if len(sys.argv) == 1:\n",
    "        print(\"meow\")\n",
    "    elif len(sys.argv) == 3 and sys.argv[1] == \"-n\":\n",
    "        n = int(sys.argv[2])\n",
    "        for _ in range(n):\n",
    "            print(\"meow\")\n",
    "    else:\n",
    "        print(\"usage: meows.py [-n NUMBER]\")\n",
    "    "
   ]
  },
  {
   "cell_type": "markdown",
   "metadata": {},
   "source": [
    "    \n",
    "    Notice how `sys` is imported, from which we get access to `sys.argv`—an array of command-line arguments given to our program when run. We can use several `if` statements to check whether the use has run our program properly.\n",
    "    \n",
    "+   Let’s assume that this program will be getting much more complicated. How could we check all the arguments that could be inserted by the user? We might give up if we have more than a few command-line arguments!\n",
    "+   Luckily, `argparse` is a library that handles all the parsing of complicated strings of command-line arguments. In the text editor window, code as follows:"
   ]
  },
  {
   "cell_type": "code",
   "execution_count": null,
   "metadata": {},
   "outputs": [],
   "source": [
    "    \n",
    "    \n",
    "    import argparse\n",
    "    \n",
    "    parser = argparse.ArgumentParser()\n",
    "    parser.add_argument(\"-n\")\n",
    "    args = parser.parse_args()\n",
    "    \n",
    "    for _ in range(int(args.n)):\n",
    "        print(\"meow\")\n",
    "    "
   ]
  },
  {
   "cell_type": "markdown",
   "metadata": {},
   "source": [
    "    \n",
    "    Notice how `argparse` is imported instead of `sys`. An object called `parser` is created from an `ArgumentParser` class. That class’s `add_argument` method is used to tell `argparse` what arguments we should expect from the user when they run our program. Finally, running the parser’s `parse_args` method ensures that all of the arguments have been included properly by the user.\n",
    "    \n",
    "+   We can also program more cleanly, such that our user can get some information about the proper usage of our code when they fail to use the program correctly. In the text editor window, code as follows:"
   ]
  },
  {
   "cell_type": "code",
   "execution_count": null,
   "metadata": {},
   "outputs": [],
   "source": [
    "    \n",
    "    \n",
    "    import argparse\n",
    "    \n",
    "    parser = argparse.ArgumentParser(description=\"Meow like a cat\")\n",
    "    parser.add_argument(\"-n\", help=\"number of times to meow\")\n",
    "    args = parser.parse_args()\n",
    "    \n",
    "    for _ in range(int(args.n)):\n",
    "        print(\"meow\")\n",
    "    "
   ]
  },
  {
   "cell_type": "markdown",
   "metadata": {},
   "source": [
    "    \n",
    "    Notice how the user is provided some documentation. Specifically, a `help` argument is provided. Now, if the user executes `python meows.py --help` or `-h`, the user will be presented with some clues about how to use this program.\n",
    "    \n",
    "+   We can further improve this program. In the text editor window, code as follows:"
   ]
  },
  {
   "cell_type": "code",
   "execution_count": null,
   "metadata": {},
   "outputs": [],
   "source": [
    "    \n",
    "    \n",
    "    import argparse\n",
    "    \n",
    "    parser = argparse.ArgumentParser(description=\"Meow like a cat\")\n",
    "    parser.add_argument(\"-n\", default=1, help=\"number of times to meow\", type=int)\n",
    "    args = parser.parse_args()\n",
    "    \n",
    "    for _ in range(args.n):\n",
    "        print(\"meow\")\n",
    "    "
   ]
  },
  {
   "cell_type": "markdown",
   "metadata": {},
   "source": [
    "    \n",
    "    Notice how not only is help documentation included, but you can provide a `default` value when no arguments are provided by the user.\n",
    "    \n",
    "+   You can learn more in Python’s documentation of [`argparse`](https://docs.python.org/3/library/argparse.html)."
   ]
  },
  {
   "cell_type": "markdown",
   "metadata": {},
   "source": [
    "## Unpacking\n",
    "\n",
    "+   Would it not be nice to be able to split a single variable into two variables? In the text editor window, code as follows:"
   ]
  },
  {
   "cell_type": "code",
   "execution_count": null,
   "metadata": {},
   "outputs": [],
   "source": [
    "    \n",
    "    \n",
    "    first, _ = input(\"What's your name? \").split(\" \")\n",
    "    print(f\"hello, {first}\")\n",
    "    "
   ]
  },
  {
   "cell_type": "markdown",
   "metadata": {},
   "source": [
    "    \n",
    "    Notice how this program tries to get a user’s first name by naively splitting on a single space.\n",
    "    \n",
    "+   It turns out there are other ways to unpack variables. You can write more powerful and elegant code by understanding how to unpack variables in seemingly more advanced ways. In the text editor window, code as follows:"
   ]
  },
  {
   "cell_type": "code",
   "execution_count": null,
   "metadata": {},
   "outputs": [],
   "source": [
    "    \n",
    "    \n",
    "    def total(galleons, sickles, knuts):\n",
    "        return (galleons * 17 + sickles) * 29 + knuts\n",
    "    \n",
    "    \n",
    "    print(total(100, 50, 25), \"Knuts\")\n",
    "    "
   ]
  },
  {
   "cell_type": "markdown",
   "metadata": {},
   "source": [
    "    \n",
    "    Notice how this returns the total value of Knuts.\n",
    "    \n",
    "+   What if we wanted to store our coins in a list? In the text editor window, code as follows:"
   ]
  },
  {
   "cell_type": "code",
   "execution_count": null,
   "metadata": {},
   "outputs": [],
   "source": [
    "    \n",
    "    \n",
    "    def total(galleons, sickles, knuts):\n",
    "        return (galleons * 17 + sickles) * 29 + knuts\n",
    "    \n",
    "    \n",
    "    coins = [100, 50, 25]\n",
    "    \n",
    "    print(total(coins[0], coins[1], coins[2]), \"Knuts\")\n",
    "    "
   ]
  },
  {
   "cell_type": "markdown",
   "metadata": {},
   "source": [
    "    \n",
    "    Notice how a list called `coins` is created. We can pass each value in by indexing using `0`, `1`, and so on.\n",
    "    \n",
    "+   This is getting quite verbose. Wouldn’t it be nice if we could simply pass the list of coins to our function?\n",
    "+   To enable the possibility of passing the entire list, we can use unpacking. In the text editor window, code as follows:"
   ]
  },
  {
   "cell_type": "code",
   "execution_count": null,
   "metadata": {},
   "outputs": [],
   "source": [
    "    \n",
    "    \n",
    "    def total(galleons, sickles, knuts):\n",
    "        return (galleons * 17 + sickles) * 29 + knuts\n",
    "    \n",
    "    \n",
    "    coins = [100, 50, 25]\n",
    "    \n",
    "    print(total(*coins), \"Knuts\")\n",
    "    "
   ]
  },
  {
   "cell_type": "markdown",
   "metadata": {},
   "source": [
    "    \n",
    "    Notice how a `*` unpacks the sequence of the list of coins and passes in each of its individual elements to `total`.\n",
    "    \n",
    "+   Suppose that we could pass in the names of the currency in any order? In the text editor window, code as follows:"
   ]
  },
  {
   "cell_type": "code",
   "execution_count": null,
   "metadata": {},
   "outputs": [],
   "source": [
    "    \n",
    "    \n",
    "    def total(galleons, sickles, knuts):\n",
    "        return (galleons * 17 + sickles) * 29 + knuts\n",
    "    \n",
    "    \n",
    "    print(total(galleons=100, sickles=50, knuts=25), \"Knuts\")\n",
    "    "
   ]
  },
  {
   "cell_type": "markdown",
   "metadata": {},
   "source": [
    "    \n",
    "    Notice how this still calculates correctly.\n",
    "    \n",
    "+   When you start talking about “names” and “values,” dictionaries might start coming to mind! You can implement this as a dictionary. In the text editor window, code as follows:"
   ]
  },
  {
   "cell_type": "code",
   "execution_count": null,
   "metadata": {},
   "outputs": [],
   "source": [
    "    \n",
    "    \n",
    "    def total(galleons, sickles, knuts):\n",
    "        return (galleons * 17 + sickles) * 29 + knuts\n",
    "    \n",
    "    \n",
    "    coins = {\"galleons\": 100, \"sickles\": 50, \"knuts\": 25}\n",
    "    \n",
    "    print(total(coins[\"galleons\"], coins[\"sickles\"], coins[\"knuts\"]), \"Knuts\")\n",
    "    "
   ]
  },
  {
   "cell_type": "markdown",
   "metadata": {},
   "source": [
    "    \n",
    "    Notice how a dictionary called `coins` is provided. We can index into it using keys, such as “galleons” or “sickles”.\n",
    "    \n",
    "+   Since the `total` function expects three arguments, we cannot pass in a dictionary. We can use unpacking to help with this. In the text editor window, code as follows:"
   ]
  },
  {
   "cell_type": "code",
   "execution_count": null,
   "metadata": {},
   "outputs": [],
   "source": [
    "    \n",
    "    \n",
    "    def total(galleons, sickles, knuts):\n",
    "        return (galleons * 17 + sickles) * 29 + knuts\n",
    "    \n",
    "    \n",
    "    coins = {\"galleons\": 100, \"sickles\": 50, \"knuts\": 25}\n",
    "    \n",
    "    print(total(**coins), \"Knuts\")\n",
    "    "
   ]
  },
  {
   "cell_type": "markdown",
   "metadata": {},
   "source": [
    "    \n",
    "    Notice how `**` allows you to unpack a dictionary. When unpacking a dictionary, it provides both the keys and values.\n",
    "    "
   ]
  },
  {
   "cell_type": "markdown",
   "metadata": {},
   "source": [
    "## `args` and `kwargs`\n",
    "\n",
    "+   Recall the `print` documentation we looked at earlier in this course:"
   ]
  },
  {
   "cell_type": "code",
   "execution_count": null,
   "metadata": {},
   "outputs": [],
   "source": [
    "    \n",
    "    \n",
    "    print(*objects, sep=' ', end='\\n', file=sys.stdout, flush=False)\n",
    "    "
   ]
  },
  {
   "cell_type": "markdown",
   "metadata": {},
   "source": [
    "    \n",
    "+   `args` are positional arguments, such as those we provide to print like `print(\"Hello\", \"World\")`.\n",
    "+   `kwargs` are named arguments, or “keyword arguments”, such as those we provide to print like `print(end=\"\")`.\n",
    "+   As we see in the prototype for the `print` function above, we can tell our function to expect a presently unknown number positional arguments. We can also tell it to expect a presently unknown number of keyword arguments. In the text editor window, code as follows:"
   ]
  },
  {
   "cell_type": "code",
   "execution_count": null,
   "metadata": {},
   "outputs": [],
   "source": [
    "    \n",
    "    \n",
    "    def f(*args, **kwargs):\n",
    "        print(\"Positional:\", args)\n",
    "    \n",
    "    \n",
    "    f(100, 50, 25)\n",
    "    "
   ]
  },
  {
   "cell_type": "markdown",
   "metadata": {},
   "source": [
    "    \n",
    "    Notice how executing this code will be printed as positional arguments.\n",
    "    \n",
    "+   We can even pass in named arguments. In the text editor window, code as follows:"
   ]
  },
  {
   "cell_type": "code",
   "execution_count": null,
   "metadata": {},
   "outputs": [],
   "source": [
    "    \n",
    "    \n",
    "    def f(*args, **kwargs):\n",
    "        print(\"Named:\", kwargs)\n",
    "    \n",
    "    \n",
    "    f(galleons=100, sickles=50, knuts=25)\n",
    "    "
   ]
  },
  {
   "cell_type": "markdown",
   "metadata": {},
   "source": [
    "    \n",
    "    Notice how the named values are provided in the form of a dictionary.\n",
    "    \n",
    "+   Thinking about the `print` function above, you can see how `*objects` takes any number of positional arguments.\n",
    "+   You can learn more in Python’s documentation of [`print`](https://docs.python.org/3/library/functions.html#print)."
   ]
  },
  {
   "cell_type": "markdown",
   "metadata": {},
   "source": [
    "## `map`\n",
    "\n",
    "+   Early on, we began with procedural programming.\n",
    "+   We later revealed Python is an object oriented programming language.\n",
    "+   We saw hints of functional programming, where functions have side effects without a return value. We can illustrate this in the text editor window, type `code yell.py` and code as follows:"
   ]
  },
  {
   "cell_type": "code",
   "execution_count": null,
   "metadata": {},
   "outputs": [],
   "source": [
    "    \n",
    "    \n",
    "    def main():\n",
    "        yell(\"This is CS50\")\n",
    "    \n",
    "    \n",
    "    def yell(word):\n",
    "        print(word.upper())\n",
    "    \n",
    "    \n",
    "    if __name__ == \"__main__\":\n",
    "        main()\n",
    "    "
   ]
  },
  {
   "cell_type": "markdown",
   "metadata": {},
   "source": [
    "    \n",
    "    Notice how the `yell` function is simply yelled.\n",
    "    \n",
    "+   Wouldn’t it be nice to yell a list of unlimited words? Modify your code as follows:"
   ]
  },
  {
   "cell_type": "code",
   "execution_count": null,
   "metadata": {},
   "outputs": [],
   "source": [
    "    \n",
    "    \n",
    "    def main():\n",
    "        yell([\"This\", \"is\", \"CS50\"])\n",
    "    \n",
    "    \n",
    "    def yell(words):\n",
    "        uppercased = []\n",
    "        for word in words:\n",
    "            uppercased.append(word.upper())\n",
    "        print(*uppercased)\n",
    "    \n",
    "    \n",
    "    if __name__ == \"__main__\":\n",
    "        main()\n",
    "    "
   ]
  },
  {
   "cell_type": "markdown",
   "metadata": {},
   "source": [
    "    \n",
    "    Notice we accumulate the uppercase words, iterating over each of the words and uppercasing them. The uppercase list is printed utilizing the `*` to unpack it.\n",
    "    \n",
    "+   Removing the brackets, we can pass the words in as arguments. In the text editor window, code as follows:"
   ]
  },
  {
   "cell_type": "code",
   "execution_count": null,
   "metadata": {},
   "outputs": [],
   "source": [
    "    \n",
    "    \n",
    "    def main():\n",
    "        yell(\"This\", \"is\", \"CS50\")\n",
    "    \n",
    "    \n",
    "    def yell(*words):\n",
    "        uppercased = []\n",
    "        for word in words:\n",
    "            uppercased.append(word.upper())\n",
    "        print(*uppercased)\n",
    "    \n",
    "    \n",
    "    if __name__ == \"__main__\":\n",
    "        main()\n",
    "    "
   ]
  },
  {
   "cell_type": "markdown",
   "metadata": {},
   "source": [
    "    \n",
    "    Notice how `*words` allows for many arguments to be taken by the function.\n",
    "    \n",
    "+   `map` allows you to map a function to a sequence of values. In practice, we can code as follows:"
   ]
  },
  {
   "cell_type": "code",
   "execution_count": null,
   "metadata": {},
   "outputs": [],
   "source": [
    "    \n",
    "    \n",
    "    def main():\n",
    "        yell(\"This\", \"is\", \"CS50\")\n",
    "    \n",
    "    \n",
    "    def yell(*words):\n",
    "        uppercased = map(str.upper, words)\n",
    "        print(*uppercased)\n",
    "    \n",
    "    \n",
    "    if __name__ == \"__main__\":\n",
    "        main()\n",
    "    "
   ]
  },
  {
   "cell_type": "markdown",
   "metadata": {},
   "source": [
    "    \n",
    "    Notice how `map` takes two arguments. First, it takes a function we want applied to every element of a list. Second, it takes that list itself, to which we’ll apply the aforementioned function. Hence, all words in `words` will be handed to the `str.upper` function and returned to `uppercased`.\n",
    "    \n",
    "+   You can learn more in Python’s documentation of [`map`](https://docs.python.org/3/library/functions.html#map)."
   ]
  },
  {
   "cell_type": "markdown",
   "metadata": {},
   "source": [
    "## List Comprehensions\n",
    "\n",
    "+   List comprehensions allow you to create a list on the fly in one elegant one-liner.\n",
    "+   We can implement this in our code as follows:"
   ]
  },
  {
   "cell_type": "code",
   "execution_count": null,
   "metadata": {},
   "outputs": [],
   "source": [
    "    \n",
    "    \n",
    "    def main():\n",
    "        yell(\"This\", \"is\", \"CS50\")\n",
    "    \n",
    "    \n",
    "    def yell(*words):\n",
    "        uppercased = [arg.upper() for arg in words]\n",
    "        print(*uppercased)\n",
    "    \n",
    "    \n",
    "    if __name__ == \"__main__\":\n",
    "        main()\n",
    "    \n",
    "    "
   ]
  },
  {
   "cell_type": "markdown",
   "metadata": {},
   "source": [
    "    \n",
    "    Notice how instead of using `map`, we write a Python expression within square brackets. For each argument, `.upper` is applied to it.\n",
    "    \n",
    "+   Taking this concept further, let’s pivot toward another program.\n",
    "+   In the text editor window, type `code gryffindors.py` and code as follows:"
   ]
  },
  {
   "cell_type": "code",
   "execution_count": null,
   "metadata": {},
   "outputs": [],
   "source": [
    "    \n",
    "    \n",
    "    students = [\n",
    "        {\"name\": \"Hermione\", \"house\": \"Gryffindor\"},\n",
    "        {\"name\": \"Harry\", \"house\": \"Gryffindor\"},\n",
    "        {\"name\": \"Ron\", \"house\": \"Gryffindor\"},\n",
    "        {\"name\": \"Draco\", \"house\": \"Slytherin\"},\n",
    "    ]\n",
    "    \n",
    "    gryffindors = []\n",
    "    for student in students:\n",
    "        if student[\"house\"] == \"Gryffindor\":\n",
    "            gryffindors.append(student[\"name\"])\n",
    "    \n",
    "    for gryffindor in sorted(gryffindors):\n",
    "        print(gryffindor)\n",
    "    "
   ]
  },
  {
   "cell_type": "markdown",
   "metadata": {},
   "source": [
    "    \n",
    "    Notice we have a conditional while we’re creating our list. *If* the student’s house is Gryffindor, we append the student to the list of names. Finally, we print all the names.\n",
    "    \n",
    "+   More elegantly, we can simplify this code with a list comprehension as follows:"
   ]
  },
  {
   "cell_type": "code",
   "execution_count": null,
   "metadata": {},
   "outputs": [],
   "source": [
    "    \n",
    "    \n",
    "    students = [\n",
    "        {\"name\": \"Hermione\", \"house\": \"Gryffindor\"},\n",
    "        {\"name\": \"Harry\", \"house\": \"Gryffindor\"},\n",
    "        {\"name\": \"Ron\", \"house\": \"Gryffindor\"},\n",
    "        {\"name\": \"Draco\", \"house\": \"Slytherin\"},\n",
    "    ]\n",
    "    \n",
    "    gryffindors = [\n",
    "        student[\"name\"] for student in students if student[\"house\"] == \"Gryffindor\"\n",
    "    ]\n",
    "    \n",
    "    for gryffindor in sorted(gryffindors):\n",
    "        print(gryffindor)\n",
    "    "
   ]
  },
  {
   "cell_type": "markdown",
   "metadata": {},
   "source": [
    "    \n",
    "    Notice how the list comprehension is on a single line!\n",
    "    "
   ]
  },
  {
   "cell_type": "markdown",
   "metadata": {},
   "source": [
    "## `filter`\n",
    "\n",
    "+   Using Python’s `filter` function allows us to return a subset of a sequence for which a certain condition is true.\n",
    "+   In the text editor window, code as follows:"
   ]
  },
  {
   "cell_type": "code",
   "execution_count": null,
   "metadata": {},
   "outputs": [],
   "source": [
    "    \n",
    "    \n",
    "    students = [\n",
    "        {\"name\": \"Hermione\", \"house\": \"Gryffindor\"},\n",
    "        {\"name\": \"Harry\", \"house\": \"Gryffindor\"},\n",
    "        {\"name\": \"Ron\", \"house\": \"Gryffindor\"},\n",
    "        {\"name\": \"Draco\", \"house\": \"Slytherin\"},\n",
    "    ]\n",
    "    \n",
    "    \n",
    "    def is_gryffindor(s):\n",
    "        return s[\"house\"] == \"Gryffindor\"\n",
    "    \n",
    "    \n",
    "    gryffindors = filter(is_gryffindor, students)\n",
    "    \n",
    "    for gryffindor in sorted(gryffindors, key=lambda s: s[\"name\"]):\n",
    "        print(gryffindor[\"name\"])\n",
    "    "
   ]
  },
  {
   "cell_type": "markdown",
   "metadata": {},
   "source": [
    "    \n",
    "    Notice how a function called `is_gryffindor` is created. This is our filtering function that will take a student `s`, and return `True` or `False` depending on whether the student’s house is Gryffindor. You can see the new `filter` function takes two arguments. First, it takes the function that will be applied to each element in a sequence—in this case, `is_gryffindor`. Second, it takes the sequence to which it will apply the filtering function—in this case, `students`. In `gryffindors`, we should see only those students who are in Gryffindor.\n",
    "    \n",
    "+   `filter` can also use lambda functions as follows:"
   ]
  },
  {
   "cell_type": "code",
   "execution_count": null,
   "metadata": {},
   "outputs": [],
   "source": [
    "    \n",
    "    \n",
    "    students = [\n",
    "        {\"name\": \"Hermione\", \"house\": \"Gryffindor\"},\n",
    "        {\"name\": \"Harry\", \"house\": \"Gryffindor\"},\n",
    "        {\"name\": \"Ron\", \"house\": \"Gryffindor\"},\n",
    "        {\"name\": \"Draco\", \"house\": \"Slytherin\"},\n",
    "    ]\n",
    "    \n",
    "    \n",
    "    gryffindors = filter(lambda s: s[\"house\"] == \"Gryffindor\", students)\n",
    "    \n",
    "    for gryffindor in sorted(gryffindors, key=lambda s: s[\"name\"]):\n",
    "        print(gryffindor[\"name\"])\n",
    "    "
   ]
  },
  {
   "cell_type": "markdown",
   "metadata": {},
   "source": [
    "    \n",
    "    Notice how the same list of students is provided.\n",
    "    \n",
    "+   You can learn more in Python’s documentation of [`filter`](https://docs.python.org/3/library/functions.html#filter)."
   ]
  },
  {
   "cell_type": "markdown",
   "metadata": {},
   "source": [
    "## Dictionary Comprehensions\n",
    "\n",
    "+   We can apply the same idea behind list comprehensions to dictionaries. In the text editor window, code as follows:"
   ]
  },
  {
   "cell_type": "code",
   "execution_count": null,
   "metadata": {},
   "outputs": [],
   "source": [
    "    \n",
    "    \n",
    "    students = [\"Hermione\", \"Harry\", \"Ron\"]\n",
    "    \n",
    "    gryffindors = []\n",
    "    \n",
    "    for student in students:\n",
    "        gryffindors.append({\"name\": student, \"house\": \"Gryffindor\"})\n",
    "    \n",
    "    print(gryffindors)\n",
    "    "
   ]
  },
  {
   "cell_type": "markdown",
   "metadata": {},
   "source": [
    "    \n",
    "    Notice how this code doesn’t (yet!) use any comprehensions. Instead, it follows the same paradigms we have seen before.\n",
    "    \n",
    "+   We can now apply dictionary comprehensions by modifying our code as follows:"
   ]
  },
  {
   "cell_type": "code",
   "execution_count": null,
   "metadata": {},
   "outputs": [],
   "source": [
    "    \n",
    "    \n",
    "    students = [\"Hermione\", \"Harry\", \"Ron\"]\n",
    "    \n",
    "    gryffindors = [{\"name\": student, \"house\": \"Gryffindor\"} for student in students]\n",
    "    \n",
    "    print(gryffindors)\n",
    "    "
   ]
  },
  {
   "cell_type": "markdown",
   "metadata": {},
   "source": [
    "    \n",
    "    Notice how all the prior code is simplified into a single line where the structure of the dictionary is provided for each `student` in `students`.\n",
    "    \n",
    "+   We can even simplify further as follows:"
   ]
  },
  {
   "cell_type": "code",
   "execution_count": null,
   "metadata": {},
   "outputs": [],
   "source": [
    "    \n",
    "    \n",
    "    students = [\"Hermione\", \"Harry\", \"Ron\"]\n",
    "    \n",
    "    gryffindors = {student: \"Gryffindor\" for student in students}\n",
    "    \n",
    "    print(gryffindors)\n",
    "    "
   ]
  },
  {
   "cell_type": "markdown",
   "metadata": {},
   "source": [
    "    \n",
    "    Notice how the dictionary will be constructed with key-value pairs.\n",
    "    "
   ]
  },
  {
   "cell_type": "markdown",
   "metadata": {},
   "source": [
    "## `enumerate`\n",
    "\n",
    "+   We may wish to provide some ranking of each student. In the text editor window, code as follows:"
   ]
  },
  {
   "cell_type": "code",
   "execution_count": null,
   "metadata": {},
   "outputs": [],
   "source": [
    "    \n",
    "    \n",
    "    students = [\"Hermione\", \"Harry\", \"Ron\"]\n",
    "    \n",
    "    for i in range(len(students)):\n",
    "        print(i + 1, students[i])\n",
    "    "
   ]
  },
  {
   "cell_type": "markdown",
   "metadata": {},
   "source": [
    "    \n",
    "    Notice how each student is enumerated when running this code.\n",
    "    \n",
    "+   Utilizing enumeration, we can do the same:"
   ]
  },
  {
   "cell_type": "code",
   "execution_count": null,
   "metadata": {},
   "outputs": [],
   "source": [
    "    \n",
    "    \n",
    "    students = [\"Hermione\", \"Harry\", \"Ron\"]\n",
    "    \n",
    "    for i, student in enumerate(students):\n",
    "        print(i + 1, student)\n",
    "    "
   ]
  },
  {
   "cell_type": "markdown",
   "metadata": {},
   "source": [
    "    \n",
    "    Notice how enumerate presents the index and the value of each `student`.\n",
    "    \n",
    "+   You can learn more in Python’s documentation of [`enumerate`](https://docs.python.org/3/library/functions.html#enumerate).\n",
    "    "
   ]
  },
  {
   "cell_type": "markdown",
   "metadata": {},
   "source": [
    "## Generators and Iterators\n",
    "\n",
    "+   In Python, there is a way to protect against your system running out of resources the problems they are addressing become too large.\n",
    "+   In the United States, it’s customary to “count sheep” in one’s mind when one is having a hard time falling asleep.\n",
    "+   In the text editor window, type `code sleep.py` and code as follows:"
   ]
  },
  {
   "cell_type": "code",
   "execution_count": null,
   "metadata": {},
   "outputs": [],
   "source": [
    "    \n",
    "    \n",
    "    n = int(input(\"What's n? \"))\n",
    "    for i in range(n):\n",
    "        print(\"🐑\" * i)\n",
    "    "
   ]
  },
  {
   "cell_type": "markdown",
   "metadata": {},
   "source": [
    "    \n",
    "    Notice how this program will count the number of sheep you ask of it.\n",
    "    \n",
    "+   We can make our program more sophisticated by adding a `main` function by coding as follows:"
   ]
  },
  {
   "cell_type": "code",
   "execution_count": null,
   "metadata": {},
   "outputs": [],
   "source": [
    "    \n",
    "    \n",
    "    def main():\n",
    "        n = int(input(\"What's n? \"))\n",
    "        for i in range(n):\n",
    "            print(\"🐑\" * i)\n",
    "    \n",
    "    \n",
    "    if __name__ == \"__main__\":\n",
    "        main()\n",
    "    "
   ]
  },
  {
   "cell_type": "markdown",
   "metadata": {},
   "source": [
    "    \n",
    "    Notice how a `main` function is provided.\n",
    "    \n",
    "+   We have been getting into the habit of abstracting away parts of our code.\n",
    "+   We can call a sheep function by modifying our code as follows:"
   ]
  },
  {
   "cell_type": "code",
   "execution_count": null,
   "metadata": {},
   "outputs": [],
   "source": [
    "    \n",
    "    \n",
    "    def main():\n",
    "        n = int(input(\"What's n? \"))\n",
    "        for i in range(n):\n",
    "            print(sheep(i))\n",
    "    \n",
    "    \n",
    "    def sheep(n):\n",
    "        return \"🐑\" * n\n",
    "    \n",
    "    \n",
    "    if __name__ == \"__main__\":\n",
    "        main()\n",
    "    "
   ]
  },
  {
   "cell_type": "markdown",
   "metadata": {},
   "source": [
    "    \n",
    "    Notice how the `main` function does the iteration.\n",
    "    \n",
    "+   We can provide the `sheep` function more abilities. In the text editor window, code as follows:"
   ]
  },
  {
   "cell_type": "code",
   "execution_count": null,
   "metadata": {},
   "outputs": [],
   "source": [
    "    \n",
    "    \n",
    "    def main():\n",
    "        n = int(input(\"What's n? \"))\n",
    "        for s in sheep(n):\n",
    "            print(s)\n",
    "    \n",
    "    \n",
    "    def sheep(n):\n",
    "        flock = []\n",
    "        for i in range(n):\n",
    "            flock.append(\"🐑\" * i)\n",
    "        return flock\n",
    "    \n",
    "    \n",
    "    if __name__ == \"__main__\":\n",
    "        main()\n",
    "    "
   ]
  },
  {
   "cell_type": "markdown",
   "metadata": {},
   "source": [
    "    \n",
    "    Notice how we create a flock of sheep and return the `flock`.\n",
    "    \n",
    "+   Executing our code, you might try different numbers of sheep such as `10`, `1000`, and `10000`. What if you asked for `1000000` sheep, your program might completely hang or crash. Because you have attempted to generate a massive list of sheep, your computer may be struggling to complete the computation.\n",
    "+   The `yield` generator can solve this problem by returning a small bit of the results at a time. In the text editor window, code as follows:"
   ]
  },
  {
   "cell_type": "code",
   "execution_count": null,
   "metadata": {},
   "outputs": [],
   "source": [
    "    \n",
    "    \n",
    "    def main():\n",
    "        n = int(input(\"What's n? \"))\n",
    "        for s in sheep(n):\n",
    "            print(s)\n",
    "    \n",
    "    \n",
    "    def sheep(n):\n",
    "        for i in range(n):\n",
    "            yield \"🐑\" * i\n",
    "    \n",
    "    \n",
    "    if __name__ == \"__main__\":\n",
    "        main()\n",
    "    \n",
    "    "
   ]
  },
  {
   "cell_type": "markdown",
   "metadata": {},
   "source": [
    "    \n",
    "    Notice how `yield` provides only one value at a time while the `for` loop keeps working.\n",
    "    \n",
    "+   You can learn more in Python’s documentation of [generators](https://docs.python.org/3/howto/functional.html#generators).\n",
    "+   You can learn more in Python’s documentation of [iterators](https://docs.python.org/3/howto/functional.html#iterators)."
   ]
  },
  {
   "cell_type": "markdown",
   "metadata": {},
   "source": [
    "## Congratulations!\n",
    "\n",
    "+   As you exit from this course, you have more of a mental model and toolbox to address programming-related problems.\n",
    "+   First, you learned about functions and variables.\n",
    "+   Second, you learned about conditionals.\n",
    "+   Third, you learned about loops.\n",
    "+   Fourth, you learned about exceptions.\n",
    "+   Fifth, you learned about libraries.\n",
    "+   Sixth, you learned about unit tests.\n",
    "+   Seventh, you learned about file I/O.\n",
    "+   Eighth, you learned about regular expressions.\n",
    "+   Most recently, you learned about object-oriented programming.\n",
    "+   Today, you learned about many other tools you can use."
   ]
  },
  {
   "cell_type": "markdown",
   "metadata": {},
   "source": [
    "## This was CS50!\n",
    "\n",
    "+   Creating a final program together, type `code say.py` in your terminal window and code as follows:\n",
    "  "
   ]
  },
  {
   "cell_type": "code",
   "execution_count": null,
   "metadata": {},
   "outputs": [],
   "source": [
    "  \n",
    "    \n",
    "    import cowsay\n",
    "    import pyttsx3\n",
    "    \n",
    "    engine = pyttsx3.init()\n",
    "    this = input(\"What's this? \")\n",
    "    cowsay.cow(this)\n",
    "    engine.say(this)\n",
    "    engine.runAndWait()\n",
    "    "
   ]
  },
  {
   "cell_type": "markdown",
   "metadata": {},
   "source": [
    "    \n",
    "    Notice how running this program provides you with a spirited send-off.\n",
    "    \n",
    "+   Our great hope is that you will use what you learned in this course to address real problems in the world, making our globe a better place.\n",
    "+   This was CS50!"
   ]
  },
  {
   "cell_type": "code",
   "execution_count": null,
   "metadata": {},
   "outputs": [],
   "source": []
  }
 ],
 "metadata": {
  "kernelspec": {
   "display_name": "Python 3 (ipykernel)",
   "language": "python",
   "name": "python3"
  },
  "language_info": {
   "codemirror_mode": {
    "name": "ipython",
    "version": 3
   },
   "file_extension": ".py",
   "mimetype": "text/x-python",
   "name": "python",
   "nbconvert_exporter": "python",
   "pygments_lexer": "ipython3",
   "version": "3.8.18"
  }
 },
 "nbformat": 4,
 "nbformat_minor": 4
}
