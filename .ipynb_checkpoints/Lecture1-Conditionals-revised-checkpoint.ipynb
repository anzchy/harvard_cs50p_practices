{
 "cells": [
  {
   "cell_type": "markdown",
   "metadata": {
    "jp-MarkdownHeadingCollapsed": true
   },
   "source": [
    "## Lecture 1\n",
    "\n",
    "+   [Conditionals](#conditionals)\n",
    "+   [if Statements](#if-statements)\n",
    "+   [Control Flow, elif, and else](#control-flow-elif-and-else)\n",
    "+   [or](#or)\n",
    "+   [and](#and)\n",
    "+   [Modulo](#modulo)\n",
    "+   [Creating Our Own Parity Function](#creating-our-own-parity-function)\n",
    "+   [Pythonic](#pythonic)\n",
    "+   [`match`](#match)\n",
    "    +   [Summing Up](#summing-up)"
   ]
  },
  {
   "cell_type": "markdown",
   "metadata": {},
   "source": [
    "## Conditionals\n",
    "\n",
    "+   Conditionals allow you, the programmer, to allow your program to make decisions: As if your program has the choice between taking the left-hand road or the right-hand road based upon certain conditions.\n",
    "+   Built within Python are a set of “operators” that are used to ask mathematical questions.\n",
    "+   `>` and `<` symbols are probably quite familiar to you.\n",
    "+   `>=` denotes “greater than or equal to.”\n",
    "+   `<=` denotes “less than or equal to.”\n",
    "+   `==` denotes “equals, though do notice the double equal sign! A single equal sign would assign a value. Double equal signs are used to compare variables.\n",
    "+   `!=` denotes “not equal to.\n",
    "+   Conditional statements compare a left-hand term to a right-hand term."
   ]
  },
  {
   "cell_type": "markdown",
   "metadata": {},
   "source": [
    "## if Statements\n",
    "\n",
    "+   In your terminal window, type `code compare.py`. This will create a brand new file called “compare.”\n",
    "+   In the text editor window, begin with the following:"
   ]
  },
  {
   "cell_type": "code",
   "execution_count": null,
   "metadata": {},
   "outputs": [],
   "source": [
    "    \n",
    "    \n",
    "    x = int(input(\"What's x? \"))\n",
    "    y = int(input(\"What's y? \"))\n",
    "    \n",
    "    if x < y:\n",
    "        print(\"x is less than y\")\n",
    "   "
   ]
  },
  {
   "cell_type": "markdown",
   "metadata": {},
   "source": [
    "    \n",
    "    Notice how your program takes the input of the user for both x and y, casting them as integers and saving them into their respective x and y variables. Then, the `if` statement compares x and y. If the condition of `x < y` is met, the `print` statement is executed.\n",
    "    \n",
    "+   `if` statements use `bool` or boolean values (true or false) to decide whether or not to execute. If the statement of `x > y` is true, the compiler will register it as `true` and execute the code."
   ]
  },
  {
   "cell_type": "markdown",
   "metadata": {},
   "source": [
    "## Control Flow, elif, and else\n",
    "\n",
    "+   Further revise your code as follows:"
   ]
  },
  {
   "cell_type": "code",
   "execution_count": null,
   "metadata": {},
   "outputs": [],
   "source": [
    "    \n",
    "    \n",
    "    x = int(input(\"What's x? \"))\n",
    "    y = int(input(\"What's y? \"))\n",
    "    \n",
    "    if x < y:\n",
    "        print(\"x is less than y\")\n",
    "    if x > y:\n",
    "        print(\"x is greater than y\")\n",
    "    if x == y:\n",
    "        print(\"x is equal to y\")\n",
    "   "
   ]
  },
  {
   "cell_type": "markdown",
   "metadata": {},
   "source": [
    "    \n",
    "    Notice how you are providing a series of `if` statements. First, the first `if` statement is evaluated. Then, the second `if` statement runs its evaluation. Finally, the last `if` statement runs its evaluation. This flow of decisions is called “control flow.”\n",
    "    \n",
    "+   Our code can be represented as follows:\n",
    "   "
   ]
  },
  {
   "cell_type": "markdown",
   "metadata": {},
   "source": [
    " \n",
    "   mermaid\n",
    "    flowchart TD\n",
    "      A([start]) --> B{x < y}\n",
    "      B -- True --> C[\"#quot;x is less than y#quot;\"]\n",
    "      C --> D{x > y}\n",
    "      D -- True --> E[\"#quot;x is greater than y#quot;\"]\n",
    "      E --> F{x == y}\n",
    "      F -- True --> G[\"#quot;x is equal to y#quot;\"]\n",
    "      G --> H([stop])\n",
    "      B -- False --> D\n",
    "      D -- False --> F\n",
    "      F -- False --> H\n",
    "   \n",
    "    "
   ]
  },
  {
   "cell_type": "markdown",
   "metadata": {},
   "source": [
    "+   This program can be improved by not asking three consecutive questions. After all, not all three questions can have an outcome of `true`! Revise your program as follows:\n",
    "  "
   ]
  },
  {
   "cell_type": "code",
   "execution_count": null,
   "metadata": {},
   "outputs": [],
   "source": [
    "  \n",
    "    \n",
    "    x = int(input(\"What's x? \"))\n",
    "    y = int(input(\"What's y? \"))\n",
    "    \n",
    "    if x < y:\n",
    "        print(\"x is less than y\")\n",
    "    elif x > y:\n",
    "        print(\"x is greater than y\")\n",
    "    elif x == y:\n",
    "        print(\"x is equal to y\")\n",
    "   "
   ]
  },
  {
   "cell_type": "markdown",
   "metadata": {},
   "source": [
    "    \n",
    "    Notice how the use of `elif` allows the program to make fewer decisions. First, the `if` statement is evaluated. If this statement is found to be true, all the `elif` statements will not be run at all. However, if the `if` statement is evaluated and found to be false, the first `elif` will be evaluated. If this is true, it will not run the final evaluation.\n",
    "    \n",
    "+   Our code can be represented as follows:\n",
    "  "
   ]
  },
  {
   "cell_type": "markdown",
   "metadata": {},
   "source": [
    "  \n",
    "   mermaid\n",
    "    flowchart TD\n",
    "      A([start]) --> B{x < y}\n",
    "      B -- True --> C[\"#quot;x is less than y#quot;\"]\n",
    "      B -- False --> D{x > y}\n",
    "      D -- True --> E[\"#quot;x is greater than y#quot;\"]\n",
    "      D -- False --> F{x == y}\n",
    "      F -- True --> G[\"#quot;x is equal to y#quot;\"]\n",
    "      G --> H([stop])\n",
    "      F -- False --> H\n",
    "      C --> H\n",
    "      E --> H\n",
    "   "
   ]
  },
  {
   "cell_type": "markdown",
   "metadata": {},
   "source": [
    "    \n",
    "+   While your computer may not notice a difference speed-wise between our first program and this revised program, consider how an online server running billions or trillions of these types of calculations each day could definitely be impacted by such a small coding decision.\n",
    "+   There is one final improvement we can make to our program. Notice how logically `elif x == y` is not a necessary evaluation to run. After all, if logically x is not less than y AND x is not greater than y, x MUST equal y. Therefore, we don’t have to run `elif x == y`. We can create a “catch-all,” default outcome using an `else` statement. We can revise as follows:"
   ]
  },
  {
   "cell_type": "code",
   "execution_count": null,
   "metadata": {},
   "outputs": [],
   "source": [
    "    \n",
    "    \n",
    "    x = int(input(\"What's x? \"))\n",
    "    y = int(input(\"What's y? \"))\n",
    "    \n",
    "    if x < y:\n",
    "        print(\"x is less than y\")\n",
    "    elif x > y:\n",
    "        print(\"x is greater than y\")\n",
    "    else:\n",
    "        print(\"x is equal to y\")\n",
    "   \n",
    "  "
   ]
  },
  {
   "cell_type": "markdown",
   "metadata": {},
   "source": [
    "  \n",
    "    Notice how the relative complexity of this program has decreased through our revision.\n",
    "    \n",
    "+   Our code can be represented as follows:\n",
    " "
   ]
  },
  {
   "cell_type": "markdown",
   "metadata": {},
   "source": [
    "   \n",
    "   mermaid\n",
    "    flowchart TD\n",
    "      A([start]) --> B{x < y}\n",
    "      B -- True --> C[\"#quot;x is less than y#quot;\"]\n",
    "      B -- False --> D{x > y}\n",
    "      D -- True --> E[\"#quot;x is greater than y#quot;\"]\n",
    "      D -- False --> F[\"#quot;x is equal to y#quot;\"]\n",
    "      F --> G([stop])\n",
    "      C --> G\n",
    "      E --> G\n",
    "   \n",
    "    "
   ]
  },
  {
   "cell_type": "markdown",
   "metadata": {},
   "source": [
    "## or\n",
    "\n",
    "+   `or` allows your program to decide between one or more alternatives. For example, we could further edit our program as follows:"
   ]
  },
  {
   "cell_type": "code",
   "execution_count": null,
   "metadata": {},
   "outputs": [],
   "source": [
    "    \n",
    "    \n",
    "    x = int(input(\"What's x? \"))\n",
    "    y = int(input(\"What's y? \"))\n",
    "    \n",
    "    if x < y or x > y:\n",
    "        print(\"x is not equal to y\")\n",
    "    else:\n",
    "        print(\"x is equal to y\")\n",
    "   \n",
    "  "
   ]
  },
  {
   "cell_type": "markdown",
   "metadata": {},
   "source": [
    "  \n",
    "    Notice that the result of our program is the same, but the complexity is decreased. The efficiency of our code is increased.\n",
    "    \n",
    "+   At this point, our code is pretty great. However, could the design be further improved? We could further edit our code as follows:"
   ]
  },
  {
   "cell_type": "code",
   "execution_count": null,
   "metadata": {},
   "outputs": [],
   "source": [
    "    \n",
    "    \n",
    "    x = int(input(\"What's x? \"))\n",
    "    y = int(input(\"What's y? \"))\n",
    "    \n",
    "    if x != y:\n",
    "        print(\"x is not equal to y\")\n",
    "    else:\n",
    "        print(\"x is equal to y\")\n",
    "   "
   ]
  },
  {
   "cell_type": "markdown",
   "metadata": {},
   "source": [
    "    \n",
    "    Notice how we removed the `or` entirely and simply asked, “Is x not equal to y?” We ask one and only one question. Very efficient!\n",
    "    \n",
    "+   For the purpose of illustration, we could also change our code as follows:"
   ]
  },
  {
   "cell_type": "code",
   "execution_count": null,
   "metadata": {},
   "outputs": [],
   "source": [
    "    \n",
    "    \n",
    "    x = int(input(\"What's x? \"))\n",
    "    y = int(input(\"What's y? \"))\n",
    "    \n",
    "    if x == y:\n",
    "        print(\"x is equal to y\")\n",
    "    else:\n",
    "        print(\"x is not equal to y\")\n",
    "   \n",
    " "
   ]
  },
  {
   "cell_type": "markdown",
   "metadata": {},
   "source": [
    "   \n",
    "    Notice that the `==` operator evaluates if what is on the left and right are equal to one another. The use of double equal signs is very important. If you use only one equal sign, an error will likely be thrown by the compiler.\n",
    "    \n",
    "+   Our code can be illustrated as follows:\n",
    "  "
   ]
  },
  {
   "cell_type": "code",
   "execution_count": null,
   "metadata": {},
   "outputs": [],
   "source": [
    "  \n",
    "   mermaid\n",
    "    flowchart TD\n",
    "      A([start]) --> B{x == y}\n",
    "      B -- True --> C[\"#quot;x is equal to y#quot;\"]\n",
    "      B -- False --> E[\"#quot;x is not equal to y#quot;\"]\n",
    "      C --> F([stop])\n",
    "      E --> F\n",
    "   "
   ]
  },
  {
   "cell_type": "markdown",
   "metadata": {},
   "source": [
    "    \n",
    "\n",
    "## and\n",
    "\n",
    "+   Similar to `or`, `and` can be used within conditional statements.\n",
    "+   Execute in the terminal window `code grade.py`. Start your new program as follows:"
   ]
  },
  {
   "cell_type": "code",
   "execution_count": null,
   "metadata": {},
   "outputs": [],
   "source": [
    "    \n",
    "    \n",
    "    score = int(input(\"Score: \"))\n",
    "    \n",
    "    if score >= 90 and score <= 100:\n",
    "        print(\"Grade: A\")\n",
    "    elif score >=80 and score < 90:\n",
    "        print(\"Grade: B\")\n",
    "    elif score >=70 and score < 80:\n",
    "        print(\"Grade: C\")\n",
    "    elif score >=60 and score < 70:\n",
    "        print(\"Grade: D\")\n",
    "    else:\n",
    "        print(\"Grade: F\")\n",
    "   "
   ]
  },
  {
   "cell_type": "markdown",
   "metadata": {},
   "source": [
    "    \n",
    "    Notice that by executing `python grade.py`, you will be able to input a score and get a grade. However, notice how there is potential for bugs.\n",
    "    \n",
    "+   Typically, we do not want to ever trust our users to input the correct information. We could improve our code as follows:"
   ]
  },
  {
   "cell_type": "code",
   "execution_count": null,
   "metadata": {},
   "outputs": [],
   "source": [
    "    \n",
    "    \n",
    "      score = int(input(\"Score: \"))\n",
    "    \n",
    "      if 90 <= score <= 100:\n",
    "          print(\"Grade: A\")\n",
    "      elif 80 <= score < 90:\n",
    "          print(\"Grade: B\")\n",
    "      elif 70 <= score < 80:\n",
    "          print(\"Grade: C\")\n",
    "      elif 60 <= score < 70:\n",
    "          print(\"Grade: D\")\n",
    "      else:\n",
    "          print(\"Grade: F\")\n",
    "   "
   ]
  },
  {
   "cell_type": "markdown",
   "metadata": {},
   "source": [
    "    \n",
    "    Notice how Python allows you to chain together the operators and conditions in a way quite uncommon to other programming languages.\n",
    "    \n",
    "+   Still, we can further improve our program:"
   ]
  },
  {
   "cell_type": "code",
   "execution_count": null,
   "metadata": {},
   "outputs": [],
   "source": [
    "    \n",
    "    \n",
    "    score = int(input(\"Score: \"))\n",
    "    \n",
    "    if score >= 90:\n",
    "        print(\"Grade: A\")\n",
    "    elif score >= 80:\n",
    "        print(\"Grade: B\")\n",
    "    elif score >= 70:\n",
    "        print(\"Grade: C\")\n",
    "    elif score >= 60:\n",
    "        print(\"Grade: D\")\n",
    "    else:\n",
    "        print(\"Grade: F\")\n",
    "   "
   ]
  },
  {
   "cell_type": "markdown",
   "metadata": {},
   "source": [
    "    \n",
    "    Notice how the program is improved by asking fewer questions. This makes our program easier to read and far more maintainable in the future.\n",
    "    \n",
    "+   You can learn more in Python’s documentation on [control flow](https://docs.python.org/3/tutorial/controlflow.html)."
   ]
  },
  {
   "cell_type": "markdown",
   "metadata": {},
   "source": [
    "## Modulo\n",
    "\n",
    "+   In mathematics, parity refers to whether a number is either even or odd.\n",
    "+   The modulo `%` operator in programming allows one to see if two numbers divide evenly or divide and have a remainder.\n",
    "+   For example, 4 % 2 would result in zero, because it evenly divides. However, 3 % 2 does not divide evenly and would result in a number other than zero!\n",
    "+   In the terminal window, create a new program by typing `code parity.py`. In the text editor window, type your code as follows:"
   ]
  },
  {
   "cell_type": "code",
   "execution_count": null,
   "metadata": {},
   "outputs": [],
   "source": [
    "    \n",
    "    \n",
    "    x = int(input(\"What's x? \"))\n",
    "    \n",
    "    if x % 2 == 0:\n",
    "        print(\"Even\")\n",
    "    else:\n",
    "        print(\"Odd\")\n",
    "   "
   ]
  },
  {
   "cell_type": "markdown",
   "metadata": {},
   "source": [
    "    \n",
    "    Notice how our users can type in any number 1 or greater to see if it is even or odd.\n",
    "    "
   ]
  },
  {
   "cell_type": "markdown",
   "metadata": {},
   "source": [
    "## Creating Our Own Parity Function\n",
    "\n",
    "+   As discussed in Lecture 0, you will find it useful to create a function of your own!\n",
    "+   We can create our own function to check whether a number is even or odd. Adjust your code as follows:"
   ]
  },
  {
   "cell_type": "code",
   "execution_count": null,
   "metadata": {},
   "outputs": [],
   "source": [
    "    \n",
    "    \n",
    "    def main():\n",
    "        x = int(input(\"What's x? \"))\n",
    "        if is_even(x):\n",
    "            print(\"Even\")\n",
    "        else:\n",
    "            print(\"Odd\")\n",
    "    \n",
    "    \n",
    "    def is_even(n):\n",
    "        if n % 2 == 0:\n",
    "            return True\n",
    "        else:\n",
    "            return False\n",
    "    \n",
    "    \n",
    "    main()\n",
    "   "
   ]
  },
  {
   "cell_type": "markdown",
   "metadata": {},
   "source": [
    "    \n",
    "    Notice that our `if` statement `is_even(x)` works even though there is no operator there. This is because our function returns a `bool` (or boolean), true or false, back to the main function. The `if` statement simply evaluates whether or not `is_even` of `x` is true or false."
   ]
  },
  {
   "cell_type": "markdown",
   "metadata": {},
   "source": [
    "    \n",
    "## Pythonic\n",
    "\n",
    "+   In the programming world, there are types of programming that are called “Pythonic” in nature. That is, there are ways to program that are sometimes only seen in Python programming. Consider the following revision to our program:\n",
    "    "
   ]
  },
  {
   "cell_type": "code",
   "execution_count": null,
   "metadata": {},
   "outputs": [],
   "source": [
    "    \n",
    "    def main():\n",
    "        x = int(input(\"What's x? \"))\n",
    "        if is_even(x):\n",
    "            print(\"Even\")\n",
    "        else:\n",
    "            print(\"Odd\")\n",
    "    \n",
    "    \n",
    "    def is_even(n):\n",
    "        return True if n % 2 == 0 else False\n",
    "    \n",
    "    \n",
    "    main()\n",
    "   "
   ]
  },
  {
   "cell_type": "markdown",
   "metadata": {},
   "source": [
    "    \n",
    "    Notice that this return statement in our code is almost like a sentence in English. This is a unique way of coding only seen in Python.\n",
    "    \n",
    "+   We can further revise our code and make it more and more readable:"
   ]
  },
  {
   "cell_type": "code",
   "execution_count": null,
   "metadata": {},
   "outputs": [],
   "source": [
    "    \n",
    "    \n",
    "    def main():\n",
    "        x = int(input(\"What's x? \"))\n",
    "        if is_even(x):\n",
    "            print(\"Even\")\n",
    "        else:\n",
    "            print(\"Odd\")\n",
    "    \n",
    "    \n",
    "    def is_even(n):\n",
    "        return n % 2 == 0\n",
    "    \n",
    "    \n",
    "    main()\n",
    "   "
   ]
  },
  {
   "cell_type": "markdown",
   "metadata": {},
   "source": [
    "    \n",
    "    Notice that the program will evaluate what is happening within the `n % 2 == 0` as either true or false and simply return that to the main function.\n",
    "    \n",
    "\n",
    "## match\n",
    "\n",
    "+   Similar to `if`, `elif`, and `else` statements, `match` statements can be used to conditionally run code that matches certain values.\n",
    "+   Consider the following program:"
   ]
  },
  {
   "cell_type": "code",
   "execution_count": null,
   "metadata": {},
   "outputs": [],
   "source": [
    "    \n",
    "    \n",
    "      name = input(\"What's your name? \")\n",
    "    \n",
    "      if name == \"Harry\":\n",
    "          print(\"Gryffindor\")\n",
    "      elif name == \"Hermione\":\n",
    "          print(\"Gryffindor\")\n",
    "      elif name == \"Ron\": \n",
    "          print(\"Gryffindor\")\n",
    "      elif name == \"Draco\":\n",
    "          print(\"Slytherin\")\n",
    "      else:\n",
    "          print(\"Who?\")\n",
    "   "
   ]
  },
  {
   "cell_type": "markdown",
   "metadata": {},
   "source": [
    "    \n",
    "    Notice the first three conditional statements print the same response.\n",
    "    \n",
    "+   We can improve this code slightly with the use of the `or` keyword:"
   ]
  },
  {
   "cell_type": "code",
   "execution_count": null,
   "metadata": {},
   "outputs": [],
   "source": [
    "    \n",
    "    \n",
    "      name = input(\"What's your name? \")\n",
    "    \n",
    "      if name == \"Harry\" or name == \"Hermione\" or name == \"Ron\": \n",
    "          print(\"Gryffindor\")\n",
    "      elif name == \"Draco\":\n",
    "          print(\"Slytherin\")\n",
    "      else:\n",
    "          print(\"Who?\")\n",
    "   "
   ]
  },
  {
   "cell_type": "markdown",
   "metadata": {},
   "source": [
    "    \n",
    "    Notice the number of `elif` statements has decreased, improving the readability of our code.\n",
    "    \n",
    "+   Alternatively, we can use `match` statements to map names to houses. Consider the following code:"
   ]
  },
  {
   "cell_type": "code",
   "execution_count": null,
   "metadata": {},
   "outputs": [],
   "source": [
    "    \n",
    "    \n",
    "      name = input(\"What's your name? \")\n",
    "    \n",
    "      match name: \n",
    "          case \"Harry\":\n",
    "              print(\"Gryffindor\")\n",
    "          case \"Hermione\":\n",
    "              print(\"Gryffindor\")\n",
    "          case \"Ron\": \n",
    "              print(\"Gryffindor\")\n",
    "          case \"Draco\":\n",
    "              print(\"Slytherin\")\n",
    "          case _:\n",
    "              print(\"Who?\")\n",
    "   "
   ]
  },
  {
   "cell_type": "markdown",
   "metadata": {},
   "source": [
    "    \n",
    "    Notice the use of the `_` symbol in the last case. This will match with any input, resulting in similar behavior as an `else` statement.\n",
    "    \n",
    "+   A match statement compares the value following the `match` keyword with each of the values following the `case` keywords. In the event a match is found, the respective indented code section is executed, and the program stops the matching.\n",
    "+   We can improve the code:"
   ]
  },
  {
   "cell_type": "code",
   "execution_count": null,
   "metadata": {},
   "outputs": [],
   "source": [
    "    \n",
    "    \n",
    "      name = input(\"What's your name? \")\n",
    "    \n",
    "      match name: \n",
    "          case \"Harry\" | \"Hermione\" | \"Ron\":\n",
    "              print(\"Gryffindor\")\n",
    "          case \"Draco\":\n",
    "              print(\"Slytherin\")\n",
    "          case _:\n",
    "              print(\"Who?\")\n",
    "   "
   ]
  },
  {
   "cell_type": "markdown",
   "metadata": {},
   "source": [
    "    \n",
    "    Notice, the use of the single vertical bar `|`. Much like the `or` keyword, this allows us to check for multiple values in the same `case` statement.\n",
    "    "
   ]
  },
  {
   "cell_type": "markdown",
   "metadata": {},
   "source": [
    "## Summing Up\n",
    "\n",
    "You now have the power within Python to use conditional statements to ask questions and have your program take action accordingly. In this lecture, we discussed…\n",
    "\n",
    "+   Conditionals;\n",
    "+   `if` Statements;\n",
    "+   Control flow, `elif`, and `else`;\n",
    "+   `or`;\n",
    "+   `and`;\n",
    "+   Modulo;\n",
    "+   Creating your own function;\n",
    "+   Pythonic coding;\n",
    "+   and `match`."
   ]
  },
  {
   "cell_type": "code",
   "execution_count": null,
   "metadata": {},
   "outputs": [],
   "source": []
  }
 ],
 "metadata": {
  "kernelspec": {
   "display_name": "Python 3 (ipykernel)",
   "language": "python",
   "name": "python3"
  },
  "language_info": {
   "codemirror_mode": {
    "name": "ipython",
    "version": 3
   },
   "file_extension": ".py",
   "mimetype": "text/x-python",
   "name": "python",
   "nbconvert_exporter": "python",
   "pygments_lexer": "ipython3",
   "version": "3.8.18"
  }
 },
 "nbformat": 4,
 "nbformat_minor": 4
}
