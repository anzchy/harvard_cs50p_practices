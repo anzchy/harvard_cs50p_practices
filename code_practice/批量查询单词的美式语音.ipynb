{
 "cells": [
  {
   "cell_type": "code",
   "execution_count": null,
   "id": "8e809e6a-3708-42e2-9d12-e85cfd4655c3",
   "metadata": {},
   "outputs": [],
   "source": [
    "# 尝试读取 cam_dict.json\n",
    "\n",
    "import json\n",
    "\n",
    "filepath = '/Users/chengyong/Documents/01_Coding/03_Harvard_CS50P/harvard_cs50p_practices/code_practice/cambridge_dict.json'\n",
    "data = {} # 初始化一个空字典存储 JSON 数据\n",
    "\n",
    "def proun_search(word_to_search):\n",
    "    with open(filepath, 'r', ) as file:\n",
    "        for line in file:\n",
    "            line = line.strip() # 移除行尾的换行符\n",
    "    \n",
    "            if line:\n",
    "                try:\n",
    "                    json_obj = json.loads(line) # 将每一行解析为一个 JSON 对象\n",
    "                    data.update(json_obj) # 将解析后的JSON对象合并到data字典中\n",
    "    \n",
    "                    if json_obj['word'] == word_to_search:\n",
    "                        print(\"vegetable:\",json_obj['pos_items'][0]['pronunciations'][1]['pronunciation'])\n",
    "                except json.JSONDecodeError as e:\n",
    "                    print(f\"Error decoding line: {line}, Error: {e}\")\n",
    "\n",
    "proun_search('interest')"
   ]
  },
  {
   "cell_type": "code",
   "execution_count": null,
   "id": "ef1a2a8f-b6e4-4351-91cf-38d6af3a85fb",
   "metadata": {},
   "outputs": [],
   "source": [
    "# 待添加 csv 读取，批量单词，然后利用循环和 proun_search 函数来查询音标，最后将音标写回 CSV 文件"
   ]
  }
 ],
 "metadata": {
  "kernelspec": {
   "display_name": "Python 3 (ipykernel)",
   "language": "python",
   "name": "python3"
  },
  "language_info": {
   "codemirror_mode": {
    "name": "ipython",
    "version": 3
   },
   "file_extension": ".py",
   "mimetype": "text/x-python",
   "name": "python",
   "nbconvert_exporter": "python",
   "pygments_lexer": "ipython3",
   "version": "3.8.18"
  }
 },
 "nbformat": 4,
 "nbformat_minor": 5
}
