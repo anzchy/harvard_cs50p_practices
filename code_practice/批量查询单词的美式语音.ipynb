{
 "cells": [
  {
   "cell_type": "code",
   "execution_count": 30,
   "id": "8e809e6a-3708-42e2-9d12-e85cfd4655c3",
   "metadata": {},
   "outputs": [
    {
     "name": "stdout",
     "output_type": "stream",
     "text": [
      "ˈoʊ.pən\n"
     ]
    }
   ],
   "source": [
    "# 尝试读取 cam_dict.json\n",
    "# 这个程序不够健壮，查询一个单词是没问题的，但是当批量查询单词，会报错，显示 index out of range\n",
    "\n",
    "import json\n",
    "\n",
    "filepath = '/Users/chengyong/Documents/01_Coding/03_Harvard_CS50P/harvard_cs50p_practices/code_practice/cambridge_dict.json'\n",
    "data = {} # 初始化一个空字典存储 JSON 数据\n",
    "\n",
    "def proun_search(word_to_search):\n",
    "    with open(filepath, 'r', ) as file:\n",
    "        for line in file:\n",
    "            line = line.strip() # 移除行尾的换行符\n",
    "    \n",
    "            if line:\n",
    "                try:\n",
    "                    json_obj = json.loads(line) # 将每一行解析为一个 JSON 对象\n",
    "                    data.update(json_obj) # 将解析后的JSON对象合并到data字典中\n",
    "    \n",
    "                    if json_obj['word'] == word_to_search:\n",
    "                        print(json_obj['pos_items'][0]['pronunciations'][1]['pronunciation'])\n",
    "                except json.JSONDecodeError as e:\n",
    "                    print(f\"Error decoding line: {line}, Error: {e}\")\n",
    "\n",
    "#proun_search('open') "
   ]
  },
  {
   "cell_type": "code",
   "execution_count": 39,
   "id": "77c35865-e312-49d5-aa3c-9bb3617f9838",
   "metadata": {},
   "outputs": [
    {
     "name": "stdout",
     "output_type": "stream",
     "text": [
      "dict_items([])\n"
     ]
    }
   ],
   "source": [
    "# 尝试读取 cam_dict.json\n",
    "\n",
    "import json\n",
    "\n",
    "filepath = '/Users/chengyong/Documents/01_Coding/03_Harvard_CS50P/harvard_cs50p_practices/code_practice/cambridge_dict.json'\n",
    "data = {} # 初始化一个空字典存储 JSON 数据\n",
    "\n",
    "def proun_search(word_to_search):\n",
    "    with open(filepath, 'r', ) as file:\n",
    "        for line in file:\n",
    "            line = line.strip() # 移除行尾的换行符\n",
    "    \n",
    "            if line:\n",
    "                try:\n",
    "                    json_obj = json.loads(line) # 将每一行解析为一个 JSON 对象\n",
    "                    data.update(json_obj) # 将解析后的JSON对象合并到data字典中\n",
    "\n",
    "                except json.JSONDecodeError as e:\n",
    "                    print(f\"Error decoding line: {line}, Error: {e}\")\n",
    "\n",
    "print(data.items())\n",
    "#        if data['word'] == word_to_search:\n",
    "#            print(data['pos_items'][0]['pronunciations'][1]['pronunciation'])\n",
    "\n",
    "#proun_search('alter') "
   ]
  },
  {
   "cell_type": "code",
   "execution_count": 31,
   "id": "ef1a2a8f-b6e4-4351-91cf-38d6af3a85fb",
   "metadata": {},
   "outputs": [
    {
     "name": "stdout",
     "output_type": "stream",
     "text": [
      "['Adam', 'air ', 'aloud', 'altar', 'ant', 'ate', 'band', 'bare', 'base', 'be', 'beat', 'berry', 'billed', 'blew', 'board', 'brake', 'buy', 'collar', 'cell', 'cent', 'chili', 'chews', 'cite', 'close', 'core', 'course', 'dear', 'die', 'do', 'finish', 'feudal', 'flea', 'flew', 'flower', 'for', 'Greece', 'guest', 'gym', 'heal', 'hear', 'heard', 'him', 'hire', 'hole', 'I', \"I'll\", 'in', 'know', 'lessen', 'maid', 'mail', 'meat', 'metal', 'new', 'nose', 'not', 'nun', 'oh', 'one', 'our', 'pail', 'pair', 'past', 'peace', 'principal', 'profit', 'rain', 'red', 'right', 'ring', 'road', 'roll', 'root', 'root ', 'sail', 'sea', 'seam', 'seas', 'seen', 'seller', 'side', 'so', 'some', 'stair', 'steal', 'sweet', 'tail', 'there', 'tie', 'to', 'tow', 'wait', 'way', 'weak', 'wear', 'weather', 'wheel', 'wore', 'worn', 'actually', 'aspirin', 'average', 'basically', 'beverage', 'broccoli', 'business', 'camera', 'Catholic', 'chocolate ', 'comfortable', 'coverage', 'desperate', 'diamond', 'diaper', 'different', 'evening', 'every', 'extraordinary ', 'family', 'favorite', 'generally', 'interest', 'interesting', 'laboratory', 'liberal', 'opera', 'practically ', 'preference', 'several', 'temperature ', 'theory', 'vegetable', 'bomb', 'crumb', 'climb', 'comb', 'debt', 'doubt', 'dumb', 'lamb', 'limb', 'numb', 'plumber', 'subtle', 'thumb', 'tomb', 'indict', 'muscle', 'yacht', 'adjective', 'adjust', 'handsome', 'Wednesday', 'align', 'assign', 'benigh', 'campaign', 'champagne', 'design', 'diaphragm', 'foreign', 'reign', 'resign', 'sign', 'bright', 'bought', 'caught', 'drought', 'fight', 'fought', 'height', 'high', 'light', 'night', 'weigh', 'weight', 'ghost', 'heir', 'honest', 'hour', 'honor', 'herb', 'vehicle', 'exhibit', 'knee', 'knife', 'know', 'knot', 'calm', 'chalk', 'calf', 'could', 'folk', 'half', 'Lincoln', 'salmon', 'should', 'talk', 'walk', 'would', 'hymn', 'autumn', 'column', 'cupboard', 'psychology', 'pneumonia', 'psychic', 'psalm', 'receipt', 'aisle', 'Arkansas', 'debris', 'Illinois', 'island', 'ballet', 'bouquet', 'buffet', 'castle', 'Chevrolet', 'Christmas', 'fasten', 'listen', 'mortgage', 'often', 'whistle', 'fillet', 'gourmet', 'debut', 'soften', 'rapport', 'asthma', 'months', 'clothes', 'answer']\n"
     ]
    }
   ],
   "source": [
    "# 待添加 csv 读取，批量单词，然后利用循环和 proun_search 函数来查询音标，最后将音标写回 CSV 文件\n",
    "# 参考 示范：https://docs.python.org/3/library/csv.html\n",
    "import csv\n",
    "\n",
    "words = []\n",
    "with open(\"words.csv\", 'r', newline='') as file:\n",
    "    reader = csv.reader(file)\n",
    "    for row in reader:\n",
    "        words.append(row[0])\n",
    "        \n",
    "print(words) \n"
   ]
  },
  {
   "cell_type": "code",
   "execution_count": 33,
   "id": "4d5ae7fb-c477-4789-87b3-6cb6be88e907",
   "metadata": {},
   "outputs": [
    {
     "name": "stdout",
     "output_type": "stream",
     "text": [
      "Adam |none\n",
      "air  |none\n",
      "əˈlaʊd\n",
      "aloud |none\n",
      "ˈɑːl.tɚ\n",
      "altar |none\n",
      "ænt\n",
      "ant |none\n",
      "et\n",
      "ate |none\n",
      "bænd\n",
      "band |none\n",
      "ber\n",
      "bare |none\n",
      "beɪs\n",
      "base |none\n",
      "biː\n",
      "be |none\n",
      "biːt\n",
      "beat |none\n",
      "ˈber.i\n",
      "berry |none\n"
     ]
    },
    {
     "ename": "IndexError",
     "evalue": "list index out of range",
     "output_type": "error",
     "traceback": [
      "\u001b[0;31m---------------------------------------------------------------------------\u001b[0m",
      "\u001b[0;31mIndexError\u001b[0m                                Traceback (most recent call last)",
      "Cell \u001b[0;32mIn[33], line 2\u001b[0m\n\u001b[1;32m      1\u001b[0m \u001b[38;5;28;01mfor\u001b[39;00m word \u001b[38;5;129;01min\u001b[39;00m words:\n\u001b[0;32m----> 2\u001b[0m     \u001b[38;5;28;01mif\u001b[39;00m \u001b[38;5;129;01mnot\u001b[39;00m \u001b[43mproun_search\u001b[49m\u001b[43m(\u001b[49m\u001b[43mword\u001b[49m\u001b[43m)\u001b[49m:\n\u001b[1;32m      3\u001b[0m         \u001b[38;5;28mprint\u001b[39m(word,\u001b[38;5;124m\"\u001b[39m\u001b[38;5;124m|none\u001b[39m\u001b[38;5;124m\"\u001b[39m)\n\u001b[1;32m      4\u001b[0m     \u001b[38;5;28;01melse\u001b[39;00m:\n",
      "Cell \u001b[0;32mIn[30], line 19\u001b[0m, in \u001b[0;36mproun_search\u001b[0;34m(word_to_search)\u001b[0m\n\u001b[1;32m     16\u001b[0m     data\u001b[38;5;241m.\u001b[39mupdate(json_obj) \u001b[38;5;66;03m# 将解析后的JSON对象合并到data字典中\u001b[39;00m\n\u001b[1;32m     18\u001b[0m     \u001b[38;5;28;01mif\u001b[39;00m json_obj[\u001b[38;5;124m'\u001b[39m\u001b[38;5;124mword\u001b[39m\u001b[38;5;124m'\u001b[39m] \u001b[38;5;241m==\u001b[39m word_to_search:\n\u001b[0;32m---> 19\u001b[0m         \u001b[38;5;28mprint\u001b[39m(\u001b[43mjson_obj\u001b[49m\u001b[43m[\u001b[49m\u001b[38;5;124;43m'\u001b[39;49m\u001b[38;5;124;43mpos_items\u001b[39;49m\u001b[38;5;124;43m'\u001b[39;49m\u001b[43m]\u001b[49m\u001b[43m[\u001b[49m\u001b[38;5;241;43m0\u001b[39;49m\u001b[43m]\u001b[49m\u001b[43m[\u001b[49m\u001b[38;5;124;43m'\u001b[39;49m\u001b[38;5;124;43mpronunciations\u001b[39;49m\u001b[38;5;124;43m'\u001b[39;49m\u001b[43m]\u001b[49m\u001b[43m[\u001b[49m\u001b[38;5;241;43m1\u001b[39;49m\u001b[43m]\u001b[49m[\u001b[38;5;124m'\u001b[39m\u001b[38;5;124mpronunciation\u001b[39m\u001b[38;5;124m'\u001b[39m])\n\u001b[1;32m     20\u001b[0m \u001b[38;5;28;01mexcept\u001b[39;00m json\u001b[38;5;241m.\u001b[39mJSONDecodeError \u001b[38;5;28;01mas\u001b[39;00m e:\n\u001b[1;32m     21\u001b[0m     \u001b[38;5;28mprint\u001b[39m(\u001b[38;5;124mf\u001b[39m\u001b[38;5;124m\"\u001b[39m\u001b[38;5;124mError decoding line: \u001b[39m\u001b[38;5;132;01m{\u001b[39;00mline\u001b[38;5;132;01m}\u001b[39;00m\u001b[38;5;124m, Error: \u001b[39m\u001b[38;5;132;01m{\u001b[39;00me\u001b[38;5;132;01m}\u001b[39;00m\u001b[38;5;124m\"\u001b[39m)\n",
      "\u001b[0;31mIndexError\u001b[0m: list index out of range"
     ]
    }
   ],
   "source": [
    "for word in words:\n",
    "    if not proun_search(word):\n",
    "        print(word,\"|none\")\n",
    "    else:\n",
    "        print(word,\"|\",proun_search(word))"
   ]
  },
  {
   "cell_type": "markdown",
   "id": "d96629a6-0070-40b7-84c7-1b531ea84e52",
   "metadata": {},
   "source": [
    "上面的代码是我自己的摸索，显示程序不够健壮。\n",
    "以下是问了 GPT-4o 之后改进的程序代码，显示成功了。\n",
    "对比下我之前的代码，没有考虑到返回值为空的情形。\n",
    "\n",
    "程序改进如下：\n",
    "- 检查列表长度\n",
    "在访问 json_obj['pos_items'][0]['pronunciations'][1] 之前，先检查 pos_items 列表是否存在并且长度足够。这可以避免 IndexError。\n",
    "- 处理找不到单词的情况\n",
    "如果在 cambridge_dict.json 中找不到单词，返回 None，并在循环中处理这个情况，输出 \"| none\"。\n",
    "- 返回值\n",
    "修改了 proun_search 函数，使其返回音标字符串或 None，而不是直接打印。这更符合函数设计的原则，使其更易于重复使用和测试。\n",
    "\n",
    "这样修改后，程序将更具健壮性，不会因为缺少数据或数据格式的变化而导致崩溃。"
   ]
  },
  {
   "cell_type": "code",
   "execution_count": null,
   "id": "150617aa-782d-43d9-8df6-acb899223a80",
   "metadata": {},
   "outputs": [],
   "source": [
    "# 以下是修改后的版本。\n",
    "\n",
    "import json\n",
    "import csv\n",
    "\n",
    "filepath = '/Users/chengyong/Documents/01_Coding/03_Harvard_CS50P/harvard_cs50p_practices/code_practice/cambridge_dict.json'\n",
    "\n",
    "def proun_search(word_to_search):\n",
    "    with open(filepath, 'r') as file:\n",
    "        for line in file:\n",
    "            line = line.strip()  # 移除行尾的换行符\n",
    "            if line:\n",
    "                try:\n",
    "                    json_obj = json.loads(line)  # 将每一行解析为一个 JSON 对象\n",
    "                    if json_obj['word'] == word_to_search:\n",
    "                        # 检查 pos_items 列表和 pronunciations 列表的长度\n",
    "                        # 如果能查到，这里 prounciation 通常 len 是 2，因为有 uk 和 us 两种音标\n",
    "                        pos_items = json_obj.get('pos_items', [])\n",
    "                        if pos_items and len(pos_items[0]['pronunciations']) > 1:  \n",
    "                            # 返回美式音标,通过 return返回，比 print 要好一些\n",
    "                            return pos_items[0]['pronunciations'][1]['pronunciation'] \n",
    "                        else:\n",
    "                            return None  # 返回 None 如果没有美式音标\n",
    "                except json.JSONDecodeError as e:\n",
    "                    print(f\"Error decoding line: {line}, Error: {e}\")\n",
    "    return None  # 返回 None 如果没有找到单词\n",
    "\n",
    "# 读取 CSV 文件的单词\n",
    "words = []\n",
    "with open(\"words.csv\", 'r', newline='') as file:\n",
    "    reader = csv.reader(file)\n",
    "    for row in reader:\n",
    "        words.append(row[0])\n",
    "\n",
    "# 批量查询并输出结果\n",
    "#for word in words:\n",
    "#    pronunciation = proun_search(word)\n",
    "#    if pronunciation:\n",
    "#        print(word, \"|\", pronunciation)\n",
    "#    else:\n",
    "#        print(word, \"| none\")\n",
    "\n",
    "\n",
    "    "
   ]
  },
  {
   "cell_type": "code",
   "execution_count": 48,
   "id": "8dd53c0f-5f02-4347-9b86-d466878a19cf",
   "metadata": {},
   "outputs": [],
   "source": [
    "# 这里是最终版本，最终显示正确的输出了，因为要花个几秒钟先把音标查出来，再写入到 csv，要等个半分钟时间。\n",
    "with open(\"words_proun.csv\", 'w', newline='') as file:\n",
    "    writer = csv.writer(file)\n",
    "    writer.writerow(['word', 'prounciation'])  # 写入表头\n",
    "\n",
    "    for word in words:\n",
    "        prounciation = proun_search(word)\n",
    "        if prounciation:\n",
    "            writer.writerow([word,prounciation])\n",
    "        else:\n",
    "            writer.writerow([word,'none'])"
   ]
  },
  {
   "cell_type": "code",
   "execution_count": 46,
   "id": "b949f2eb-71a9-4ea3-9f6a-767d8aea5e15",
   "metadata": {},
   "outputs": [],
   "source": [
    "# 这里不要运行，这是我尝试根据 Python 官方 csv.writer()写入 csv，但是没有写入成功。\n",
    "with open('words_proun.csv', 'w', newline='') as file:\n",
    "    filewriter = csv.writer(file, delimiter=' ', quotechar='|', quoting=csv.QUOTE_MINIMAL)\n",
    "\n",
    "    for word in words:\n",
    "        prounciation = proun_search(word)\n",
    "        if prounciation:\n",
    "           filewriter.writerow(word + prounciation) \n",
    "        else:\n",
    "            filewriter.writerow(word + 'none')\n",
    "# 对比上面做的，我好像就是最后writerow 没有写对。以后注意。\n"
   ]
  },
  {
   "cell_type": "code",
   "execution_count": null,
   "id": "b5889102-5084-457c-aae6-03e1b36ef10c",
   "metadata": {},
   "outputs": [],
   "source": []
  }
 ],
 "metadata": {
  "kernelspec": {
   "display_name": "Python 3 (ipykernel)",
   "language": "python",
   "name": "python3"
  },
  "language_info": {
   "codemirror_mode": {
    "name": "ipython",
    "version": 3
   },
   "file_extension": ".py",
   "mimetype": "text/x-python",
   "name": "python",
   "nbconvert_exporter": "python",
   "pygments_lexer": "ipython3",
   "version": "3.8.18"
  }
 },
 "nbformat": 4,
 "nbformat_minor": 5
}
