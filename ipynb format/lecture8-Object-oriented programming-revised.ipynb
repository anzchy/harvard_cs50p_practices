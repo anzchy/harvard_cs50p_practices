{
 "cells": [
  {
   "cell_type": "markdown",
   "metadata": {
    "jp-MarkdownHeadingCollapsed": true
   },
   "source": [
    "## Lecture 8\n",
    "\n",
    "+   [Object-Oriented Programming](#object-oriented-programming)\n",
    "+   [Classes](#classes)\n",
    "+   [`raise`](#raise)\n",
    "+   [Decorators](#decorators)\n",
    "+   [Connecting to Previous Work in this Course](#connecting-to-previous-work-in-this-course)\n",
    "+   [Class Methods](#class-methods)\n",
    "+   [Static Methods](#static-methods)\n",
    "+   [Inheritance](#inheritance)\n",
    "+   [Inheritance and Exceptions](#inheritance-and-exceptions)\n",
    "+   [Operator Overloading](#operator-overloading)\n",
    "+   [Summing Up](#summing-up)"
   ]
  },
  {
   "cell_type": "markdown",
   "metadata": {},
   "source": [
    "## Object-Oriented Programming\n",
    "\n",
    "+   There are different paradigms of programming. As you learn other languages, you will start recognizing patterns like these.\n",
    "+   Up until this point, you have worked procedurally step-by-step.\n",
    "+   Object-oriented programming (OOP) is a compelling solution to programming-related problems.\n",
    "+   To begin, type `code student.py` in the terminal window and code as follows:"
   ]
  },
  {
   "cell_type": "code",
   "execution_count": null,
   "metadata": {},
   "outputs": [],
   "source": [
    "    \n",
    "    \n",
    "    name = input(\"Name: \")\n",
    "    house = input(\"House: \")\n",
    "    print(f\"{name} from {house}\")\n",
    "    "
   ]
  },
  {
   "cell_type": "markdown",
   "metadata": {},
   "source": [
    "    \n",
    "    Notice that this program follows a procedural, step-by-step paradigm: Much like you have seen in prior parts of this course.\n",
    "    \n",
    "+   Drawing on our work from previous weeks, we can create functions to abstract away parts of this program."
   ]
  },
  {
   "cell_type": "code",
   "execution_count": null,
   "metadata": {},
   "outputs": [],
   "source": [
    "    \n",
    "    \n",
    "    def main():\n",
    "        name = get_name()\n",
    "        house = get_house()\n",
    "        print(f\"{name} from {house}\")\n",
    "    \n",
    "    \n",
    "    def get_name():\n",
    "        return input(\"Name: \")\n",
    "    \n",
    "    \n",
    "    def get_house():\n",
    "        return input(\"House: \")\n",
    "    \n",
    "    \n",
    "    if __name__ == \"__main__\":\n",
    "        main()\n",
    "    "
   ]
  },
  {
   "cell_type": "markdown",
   "metadata": {},
   "source": [
    "    \n",
    "    Notice how `get_name` and `get_house` abstract away some of the needs of our `main` function. Further, notice how the final lines of the code above tell the compiler to run the `main` function.\n",
    "    \n",
    "+   We can further simplify our program by storing the student as a `tuple`. A `tuple` is a sequences of values. Unlike a `list`, a `tuple` can’t be modified. In spirit, we are returning two values."
   ]
  },
  {
   "cell_type": "code",
   "execution_count": null,
   "metadata": {},
   "outputs": [],
   "source": [
    "    \n",
    "    \n",
    "    def main():\n",
    "        name, house = get_student()\n",
    "        print(f\"{name} from {house}\")\n",
    "    \n",
    "    \n",
    "    def get_student():\n",
    "        name = input(\"Name: \")\n",
    "        house = input(\"House: \")\n",
    "        return name, house\n",
    "    \n",
    "    \n",
    "    if __name__ == \"__main__\":\n",
    "        main()\n",
    "    "
   ]
  },
  {
   "cell_type": "markdown",
   "metadata": {},
   "source": [
    "    \n",
    "    Notice how `get_student` returns `name, house`.\n",
    "    \n",
    "+   Packing that `tuple`, such that we are able to return both items to a variable called `student`, we can modify our code as follows."
   ]
  },
  {
   "cell_type": "code",
   "execution_count": null,
   "metadata": {},
   "outputs": [],
   "source": [
    "    \n",
    "    \n",
    "    def main():\n",
    "        student = get_student()\n",
    "        print(f\"{student[0]} from {student[1]}\")\n",
    "    \n",
    "    \n",
    "    def get_student():\n",
    "        name = input(\"Name: \")\n",
    "        house = input(\"House: \")\n",
    "        return (name, house)\n",
    "    \n",
    "    \n",
    "    if __name__ == \"__main__\":\n",
    "        main()\n",
    "    "
   ]
  },
  {
   "cell_type": "markdown",
   "metadata": {},
   "source": [
    "    \n",
    "    Notice that `(name, house)` explicitly tells anyone reading our code that we are returning two values within one. Further, notice how we can index into `tuple`s using `student[0]` or `student[1]`.\n",
    "    \n",
    "+   `tuple`s are immutable, meaning we cannot change those values. Immutability is a way by which we can program defensively."
   ]
  },
  {
   "cell_type": "code",
   "execution_count": null,
   "metadata": {},
   "outputs": [],
   "source": [
    "    \n",
    "    \n",
    "    def main():\n",
    "        student = get_student()\n",
    "        if student[0] == \"Padma\":\n",
    "            student[1] = \"Ravenclaw\"\n",
    "        print(f\"{student[0]} from {student[1]}\")\n",
    "    \n",
    "    \n",
    "    def get_student():\n",
    "        name = input(\"Name: \")\n",
    "        house = input(\"House: \")\n",
    "        return name, house\n",
    "    \n",
    "    \n",
    "    if __name__ == \"__main__\":\n",
    "        main()"
   ]
  },
  {
   "cell_type": "markdown",
   "metadata": {},
   "source": [
    "    \n",
    "    \n",
    "    Notice that this code produces an error. Since `tuple`s are immutable, we’re not able to reassign the value of `student[1]`.\n",
    "    \n",
    "+   If we wanted to provide our fellow programmers flexibility, we could utilize a `list` as follows."
   ]
  },
  {
   "cell_type": "code",
   "execution_count": null,
   "metadata": {},
   "outputs": [],
   "source": [
    "    \n",
    "    \n",
    "    def main():\n",
    "        student = get_student()\n",
    "        if student[0] == \"Padma\":\n",
    "            student[1] = \"Ravenclaw\"\n",
    "        print(f\"{student[0]} from {student[1]}\")\n",
    "    \n",
    "    \n",
    "    def get_student():\n",
    "        name = input(\"Name: \")\n",
    "        house = input(\"House: \")\n",
    "        return [name, house]\n",
    "    \n",
    "    \n",
    "    if __name__ == \"__main__\":\n",
    "        main()\n",
    "    "
   ]
  },
  {
   "cell_type": "markdown",
   "metadata": {},
   "source": [
    "    \n",
    "    Note the lists are mutable. That is, the order of `house` and `name` can be switched by a programmer. You might decide to utilize this in some cases where you want to provide more flexibility at the cost of the security of your code. After all, if the order of those values is changeable, programmers that work with you could make mistakes down the road.\n",
    "    \n",
    "+   A dictionary could also be utilized in this implementation. Recall that dictionaries provide a key-value pair."
   ]
  },
  {
   "cell_type": "code",
   "execution_count": null,
   "metadata": {},
   "outputs": [],
   "source": [
    "    \n",
    "    \n",
    "    def main():\n",
    "        student = get_student()\n",
    "        print(f\"{student['name']} from {student['house']}\")\n",
    "    \n",
    "    \n",
    "    def get_student():\n",
    "        student = {}\n",
    "        student[\"name\"] = input(\"Name: \")\n",
    "        student[\"house\"] = input(\"House: \")\n",
    "        return student\n",
    "    \n",
    "    \n",
    "    if __name__ == \"__main__\":\n",
    "        main()\n",
    "    "
   ]
  },
  {
   "cell_type": "markdown",
   "metadata": {},
   "source": [
    "    \n",
    "    Notice in this case, two key-value pairs are returned. An advantage of this approach is that we can index into this dictionary using the keys.\n",
    "    \n",
    "+   Still, our code can be further improved. Notice that there is an unneeded variable. We can remove `student = {}` because we don’t need to create an empty dictionary."
   ]
  },
  {
   "cell_type": "code",
   "execution_count": null,
   "metadata": {},
   "outputs": [],
   "source": [
    "    \n",
    "    \n",
    "    def main():\n",
    "        student = get_student()\n",
    "        print(f\"{student['name']} from {student['house']}\")\n",
    "    \n",
    "    \n",
    "    def get_student():\n",
    "        name = input(\"Name: \")\n",
    "        house = input(\"House: \")\n",
    "        return {\"name\": name, \"house\": house}\n",
    "    \n",
    "    \n",
    "    if __name__ == \"__main__\":\n",
    "        main()\n",
    "    "
   ]
  },
  {
   "cell_type": "markdown",
   "metadata": {},
   "source": [
    "    \n",
    "    Notice we can utilize `{}` braces in the `return` statement to create the dictionary and return it all in the same line.\n",
    "    \n",
    "+   We can provide our special case with Padma in our dictionary version of our code."
   ]
  },
  {
   "cell_type": "code",
   "execution_count": null,
   "metadata": {},
   "outputs": [],
   "source": [
    "    \n",
    "    \n",
    "    def main():\n",
    "        student = get_student()\n",
    "        if student[\"name\"] == \"Padma\":\n",
    "            student[\"house\"] = \"Ravenclaw\"\n",
    "        print(f\"{student['name']} from {student['house']}\")\n",
    "    \n",
    "    \n",
    "    def get_student():\n",
    "        name = input(\"Name: \")\n",
    "        house = input(\"House: \")\n",
    "        return {\"name\": name, \"house\": house}\n",
    "    \n",
    "    \n",
    "    if __name__ == \"__main__\":\n",
    "        main()\n",
    "    "
   ]
  },
  {
   "cell_type": "markdown",
   "metadata": {},
   "source": [
    "    \n",
    "    Notice how, similar in spirit to our previous iterations of this code, we can utilize the key names to index into our student dictionary.\n",
    "    "
   ]
  },
  {
   "cell_type": "markdown",
   "metadata": {},
   "source": [
    "## Classes\n",
    "\n",
    "+   Classes are a way by which, in object-oriented programming, we can create our own type of data and give them names.\n",
    "+   A class is like a mold for a type of data – where we can invent our own data type and give them a name.\n",
    "+   We can modify our code as follows to implement our own class called `Student`:"
   ]
  },
  {
   "cell_type": "code",
   "execution_count": null,
   "metadata": {},
   "outputs": [],
   "source": [
    "    \n",
    "    \n",
    "    class Student:\n",
    "        ...\n",
    "    \n",
    "    \n",
    "    def main():\n",
    "        student = get_student()\n",
    "        print(f\"{student.name} from {student.house}\")\n",
    "    \n",
    "    \n",
    "    def get_student():\n",
    "        student = Student()\n",
    "        student.name = input(\"Name: \")\n",
    "        student.house = input(\"House: \")\n",
    "        return student\n",
    "    \n",
    "    \n",
    "    if __name__ == \"__main__\":\n",
    "        main()\n",
    "    "
   ]
  },
  {
   "cell_type": "markdown",
   "metadata": {},
   "source": [
    "    \n",
    "    Notice by convention that `Student` is capitalized. Further, notice the `...` simply means that we will later return to finish that portion of our code. Further, notice that in `get_student`, we can create a `student` of class `Student` using the syntax `student = Student()`. Further, notice that we utilize “dot notation” to access attributes of this variable `student` of class `Student`.\n",
    "    \n",
    "+   Any time you create a class and you utilize that blueprint to create something, you create what is called an “object” or an “instance”. In the case of our code, `student` is an object.\n",
    "+   Further, we can lay some groundwork for the attributes that are expected inside an object whose class is `Student`. We can modify our code as follows:\n",
    "  "
   ]
  },
  {
   "cell_type": "code",
   "execution_count": null,
   "metadata": {},
   "outputs": [],
   "source": [
    "  \n",
    "    \n",
    "    class Student:\n",
    "        def __init__(self, name, house):\n",
    "            self.name = name\n",
    "            self.house = house\n",
    "    \n",
    "    \n",
    "    def main():\n",
    "        student = get_student()\n",
    "        print(f\"{student.name} from {student.house}\")\n",
    "    \n",
    "    \n",
    "    def get_student():\n",
    "        name = input(\"Name: \")\n",
    "        house = input(\"House: \")\n",
    "        student = Student(name, house)\n",
    "        return student\n",
    "    \n",
    "    \n",
    "    if __name__ == \"__main__\":\n",
    "        main()\n",
    "    "
   ]
  },
  {
   "cell_type": "markdown",
   "metadata": {},
   "source": [
    "    \n",
    "    Notice that within `Student`, we standardize the attributes of this class. We can create a function within `class Student`, called a “method”, that determines the behavior of an object of class `Student`. Within this function, it takes the `name` and `house` passed to it and assigns these variables to this object. Further, notice how the constructor `student = Student(name, house)` calls this function within the `Student` class and creates a `student`. `self` refers to the current object that was just created.\n",
    "    \n",
    "+   We can simplify our code as follows:\n",
    "   "
   ]
  },
  {
   "cell_type": "code",
   "execution_count": null,
   "metadata": {},
   "outputs": [],
   "source": [
    " \n",
    "    \n",
    "    class Student:\n",
    "        def __init__(self, name, house):\n",
    "            self.name = name\n",
    "            self.house = house\n",
    "    \n",
    "    \n",
    "    def main():\n",
    "        student = get_student()\n",
    "        print(f\"{student.name} from {student.house}\")\n",
    "    \n",
    "    \n",
    "    def get_student():\n",
    "        name = input(\"Name: \")\n",
    "        house = input(\"House: \")\n",
    "        return Student(name, house)\n",
    "    \n",
    "    \n",
    "    if __name__ == \"__main__\":\n",
    "        main()\n",
    "    \n",
    "   "
   ]
  },
  {
   "cell_type": "markdown",
   "metadata": {},
   "source": [
    " \n",
    "    Notice how `return Student(name, house)` simplifies the previous iteration of our code where the constructor statement was run on its own line.\n",
    "    \n",
    "+   You can learn more in Python’s documentation of [classes](https://docs.python.org/3/tutorial/classes.html)."
   ]
  },
  {
   "cell_type": "markdown",
   "metadata": {},
   "source": [
    "## `raise`\n",
    "\n",
    "+   Object-oriented program encourages you to encapusulate all the functionality of a class within the class definition. What if something goes wrong? What if someone tries to type in something random? What if someone tries to create a student without a name? Modify your code as follows:\n",
    "  "
   ]
  },
  {
   "cell_type": "code",
   "execution_count": null,
   "metadata": {},
   "outputs": [],
   "source": [
    "  \n",
    "    \n",
    "    class Student:\n",
    "        def __init__(self, name, house):\n",
    "            if not name:\n",
    "                raise ValueError(\"Missing name\")\n",
    "            if house not in [\"Gryffindor\", \"Hufflepuff\", \"Ravenclaw\", \"Slytherin\"]:\n",
    "                raise ValueError(\"Invalid house\")\n",
    "            self.name = name\n",
    "            self.house = house\n",
    "    \n",
    "    \n",
    "    def main():\n",
    "        student = get_student()\n",
    "        print(f\"{student.name} from {student.house}\")\n",
    "    \n",
    "    \n",
    "    def get_student():\n",
    "        name = input(\"Name: \")\n",
    "        house = input(\"House: \")\n",
    "        return Student(name, house)\n",
    "    \n",
    "    \n",
    "    if __name__ == \"__main__\":\n",
    "        main()\n",
    "    \n",
    "   "
   ]
  },
  {
   "cell_type": "markdown",
   "metadata": {},
   "source": [
    " \n",
    "    Notice how we check now that a name is provided and a proper house is designated. It turns out we can create our own exceptions that alerts the programmer to a potential error created by the user called `raise`. In the case above, we raise `ValueError` with a specific error message.\n",
    "    \n",
    "+   It just so happens that Python allows you to create a specific function by which you can print the attributes of an object. Modify your code as follows:\n",
    "    "
   ]
  },
  {
   "cell_type": "code",
   "execution_count": null,
   "metadata": {},
   "outputs": [],
   "source": [
    "    \n",
    "    class Student:\n",
    "        def __init__(self, name, house, patronus):\n",
    "            if not name:\n",
    "                raise ValueError(\"Missing name\")\n",
    "            if house not in [\"Gryffindor\", \"Hufflepuff\", \"Ravenclaw\", \"Slytherin\"]:\n",
    "                raise ValueError(\"Invalid house\")\n",
    "            self.name = name\n",
    "            self.house = house\n",
    "            self.patronus = patronus\n",
    "    \n",
    "        def __str__(self):\n",
    "            return f\"{self.name} from {self.house}\"\n",
    "    \n",
    "    \n",
    "    def main():\n",
    "        student = get_student()\n",
    "        print(student)\n",
    "    \n",
    "    \n",
    "    def get_student():\n",
    "        name = input(\"Name: \")\n",
    "        house = input(\"House: \")\n",
    "        patronus = input(\"Patronus: \")\n",
    "        return Student(name, house, patronus)\n",
    "    \n",
    "    \n",
    "    if __name__ == \"__main__\":\n",
    "        main()\n",
    "    \n",
    " "
   ]
  },
  {
   "cell_type": "markdown",
   "metadata": {},
   "source": [
    "   \n",
    "    Notice how `def __str__(self)` provides a means by which a student is returned when called. Therefore, you can now, as the programmer, print an object, its attributes, or almost anything you desire related to that object.\n",
    "    \n",
    "+   `__str__` is a built-in method that comes with Python classes. It just so happens that we can create our own methods for a class as well! Modify your code as follows:\n",
    "    "
   ]
  },
  {
   "cell_type": "code",
   "execution_count": null,
   "metadata": {},
   "outputs": [],
   "source": [
    "    \n",
    "    class Student:\n",
    "        def __init__(self, name, house, patronus=None):\n",
    "            if not name:\n",
    "                raise ValueError(\"Missing name\")\n",
    "            if house not in [\"Gryffindor\", \"Hufflepuff\", \"Ravenclaw\", \"Slytherin\"]:\n",
    "                raise ValueError(\"Invalid house\")\n",
    "            if patronus and patronus not in [\"Stag\", \"Otter\", \"Jack Russell terrier\"]:\n",
    "                raise ValueError(\"Invalid patronus\")\n",
    "            self.name = name\n",
    "            self.house = house\n",
    "            self.patronus = patronus\n",
    "    \n",
    "        def __str__(self):\n",
    "            return f\"{self.name} from {self.house}\"\n",
    "    \n",
    "        def charm(self):\n",
    "            match self.patronus:\n",
    "                case \"Stag\":\n",
    "                    return \"🐴\"\n",
    "                case \"Otter\":\n",
    "                    return \"🦦\"\n",
    "                case \"Jack Russell terrier\":\n",
    "                    return \"🐶\"\n",
    "                case _:\n",
    "                    return \"🪄\"\n",
    "    \n",
    "    \n",
    "    def main():\n",
    "        student = get_student()\n",
    "        print(\"Expecto Patronum!\")\n",
    "        print(student.charm())\n",
    "    \n",
    "    \n",
    "    def get_student():\n",
    "        name = input(\"Name: \")\n",
    "        house = input(\"House: \")\n",
    "        patronus = input(\"Patronus: \") or None\n",
    "        return Student(name, house, patronus)\n",
    "    \n",
    "    \n",
    "    if __name__ == \"__main__\":\n",
    "        main()\n",
    "    \n",
    "  "
   ]
  },
  {
   "cell_type": "markdown",
   "metadata": {},
   "source": [
    "  \n",
    "    Notice how we define our own method `charm`. Unlike dictionaries, classes can have built-in functions called methods. In this case, we define our `charm` method where specific cases have specific results. Further, notice that Python has the ability to utilize emojis directly in our code.\n",
    "    \n",
    "+   Before moving forward, let us remove our patronus code. Modify your code as follows:\n",
    "    "
   ]
  },
  {
   "cell_type": "code",
   "execution_count": null,
   "metadata": {},
   "outputs": [],
   "source": [
    "    \n",
    "    class Student:\n",
    "        def __init__(self, name, house):\n",
    "            if not name:\n",
    "                raise ValueError(\"Invalid name\")\n",
    "            if house not in [\"Gryffindor\", \"Hufflepuff\", \"Ravenclaw\", \"Slytherin\"]:\n",
    "                raise ValueError(\"Invalid house\")\n",
    "            self.name = name\n",
    "            self.house = house\n",
    "    \n",
    "        def __str__(self):\n",
    "            return f\"{self.name} from {self.house}\"\n",
    "    \n",
    "    \n",
    "    def main():\n",
    "        student = get_student()\n",
    "        student.house = \"Number Four, Privet Drive\"\n",
    "        print(student)\n",
    "    \n",
    "    \n",
    "    def get_student():\n",
    "        name = input(\"Name: \")\n",
    "        house = input(\"House: \")\n",
    "        return Student(name, house)\n",
    "    \n",
    "    \n",
    "    if __name__ == \"__main__\":\n",
    "        main()\n",
    "    \n",
    "   "
   ]
  },
  {
   "cell_type": "markdown",
   "metadata": {},
   "source": [
    " \n",
    "    Notice how we have only two methods: `__init__` and `__str__`.\n",
    "    \n",
    "\n",
    "## Decorators\n",
    "\n",
    "+   Properties can be utilized to harden our code. In Python, we define properties using function “decorators”, which begin with `@`. Modify your code as follows:\n",
    "  "
   ]
  },
  {
   "cell_type": "code",
   "execution_count": null,
   "metadata": {},
   "outputs": [],
   "source": [
    "  \n",
    "    \n",
    "    class Student:\n",
    "        def __init__(self, name, house):\n",
    "            if not name:\n",
    "                raise ValueError(\"Invalid name\")\n",
    "            self.name = name\n",
    "            self.house = house\n",
    "    \n",
    "        def __str__(self):\n",
    "            return f\"{self.name} from {self.house}\"\n",
    "    \n",
    "        # Getter for house\n",
    "        @property\n",
    "        def house(self):\n",
    "            return self._house\n",
    "    \n",
    "        # Setter for house\n",
    "        @house.setter\n",
    "        def house(self, house):\n",
    "            if house not in [\"Gryffindor\", \"Hufflepuff\", \"Ravenclaw\", \"Slytherin\"]:\n",
    "                raise ValueError(\"Invalid house\")\n",
    "            self._house = house\n",
    "    \n",
    "    \n",
    "    def main():\n",
    "        student = get_student()\n",
    "        print(student)\n",
    "    \n",
    "    \n",
    "    def get_student():\n",
    "        name = input(\"Name: \")\n",
    "        house = input(\"House: \")\n",
    "        return Student(name, house)\n",
    "    \n",
    "    \n",
    "    if __name__ == \"__main__\":\n",
    "        main()\n",
    "    \n",
    "  "
   ]
  },
  {
   "cell_type": "markdown",
   "metadata": {},
   "source": [
    "  \n",
    "    Notice how we’ve written `@property` above a function called `house`. Doing so defines `house` as a property of our class. With `house` as a property, we gain the ability to define how some attribute of our class, `_house`, should be set and retrieved. Indeed, we can now define a function called a “setter”, via `@house.setter`, which will be called whenever the house property is set—for example, with `student.house = \"Gryffindor\"`. Here, we’ve made our setter validate values of `house` for us. Notice how we raise a `ValueError` if the value of `house` is not any of the Harry Potter houses, otherwise, we’ll use `house` to update the value of `_house`. Why `_house` and not `house`? `house` is a property of our class, with functions via which a user attempts to set our class attribute. `_house` is that class attribute itself. The leading underscore, `_`, indicates to users they need not (and indeed, shouldn’t!) modify this value directly. `_house` should *only* be set through the `house` setter. Notice how the `house` property simply returns that value of `_house`, our class attribute that has presumably been validated using our `house` setter. When a user calls `student.house`, they’re getting the value of `_house` through our `house` “getter”.\n",
    "    \n",
    "+   In addition to the name of the house, we can protect the name of our student as well. Modify your code as follows:\n",
    "    "
   ]
  },
  {
   "cell_type": "code",
   "execution_count": null,
   "metadata": {},
   "outputs": [],
   "source": [
    "    \n",
    "    class Student:\n",
    "        def __init__(self, name, house):\n",
    "            self.name = name\n",
    "            self.house = house\n",
    "    \n",
    "        def __str__(self):\n",
    "            return f\"{self.name} from {self.house}\"\n",
    "    \n",
    "        # Getter for name\n",
    "        @property\n",
    "        def name(self):\n",
    "            return self._name\n",
    "    \n",
    "        # Setter for name\n",
    "        @name.setter\n",
    "        def name(self, name):\n",
    "            if not name:\n",
    "                raise ValueError(\"Invalid name\")\n",
    "            self._name = name\n",
    "    \n",
    "        @property\n",
    "        def house(self):\n",
    "            return self._house\n",
    "    \n",
    "        @house.setter\n",
    "        def house(self, house):\n",
    "            if house not in [\"Gryffindor\", \"Hufflepuff\", \"Ravenclaw\", \"Slytherin\"]:\n",
    "                raise ValueError(\"Invalid house\")\n",
    "            self._house = house\n",
    "    \n",
    "    \n",
    "    def main():\n",
    "        student = get_student()\n",
    "        print(student)\n",
    "    \n",
    "    \n",
    "    def get_student():\n",
    "        name = input(\"Name: \")\n",
    "        house = input(\"House: \")\n",
    "        return Student(name, house)\n",
    "    \n",
    "    \n",
    "    if __name__ == \"__main__\":\n",
    "        main()\n",
    "    "
   ]
  },
  {
   "cell_type": "markdown",
   "metadata": {},
   "source": [
    "    Notice how, much like the previous code, we provide a getter and setter for the name.\n",
    "    \n",
    "+   You can learn more in Python’s documentation of [methods](https://docs.python.org/3/tutorial/classes.html)."
   ]
  },
  {
   "cell_type": "markdown",
   "metadata": {},
   "source": [
    "## Connecting to Previous Work in this Course\n",
    "\n",
    "+   While not explicitly stated in past portions of this course, you have been using classes and objects the whole way through.\n",
    "+   If you dig into the documentation of `int`, you’ll see that it is a class with a constructor. It’s a blueprint for creating objects of type `int`. You can learn more in Python’s documentation of [`int`](https://docs.python.org/3/library/functions.html#int).\n",
    "+   Strings too are also a class. If you have used `str.lower()`, you were using a method that came within the `str` class. You can learn more in Python’s documentation of [`str`](https://docs.python.org/3/library/stdtypes.html#str).\n",
    "+   `list` is also a class. Looking at that documentation for `list`, you can see the methods that are contained therein, like `list.append()`. You can learn more in Python’s documentation of [`list`](https://docs.python.org/3/library/stdtypes.html#list).\n",
    "+   `dict` is also a class within Python. You can learn more in Python’s documentation of [`dict`](https://docs.python.org/3/library/stdtypes.html#dict).\n",
    "+   To see how you have been using classes all along, go to your console and type `code type.py` and then code as follows:\n",
    "    \n",
    "    Notice how by executing this code, it will display that the class of `50` is `int`.\n",
    "    \n",
    "+   We can also apply this to `str` as follows:\n",
    "    "
   ]
  },
  {
   "cell_type": "code",
   "execution_count": null,
   "metadata": {},
   "outputs": [],
   "source": [
    "    \n",
    "    print(type(\"hello, world\"))\n",
    "    \n",
    "   "
   ]
  },
  {
   "cell_type": "markdown",
   "metadata": {},
   "source": [
    "    Notice how executing this code will indicate this is of the class `str`.\n",
    "    \n",
    "+   We can also apply this to `list` as follows:\n",
    "    \n",
    "    Notice how executing this code will indicate this is of the class `list`.\n",
    "    \n",
    "+   We can also apply this to a `list` using the name of Python’s built-in `list` class as follows:\n",
    "    \n",
    "    Notice how executing this code will indicate this is of the class `list`.\n",
    "    \n",
    "+   We can also apply this to `dict` as follows:\n",
    "    \n",
    "    Notice how executing this code will indicate this is of the class `dict`.\n",
    "    \n",
    "+   We can also apply this to a `dict` using the name of Python’s built in `dict` class as follows:\n",
    "    \n",
    "    Notice how executing this code will indicate this is of the class `dict`.\n",
    "    "
   ]
  },
  {
   "cell_type": "markdown",
   "metadata": {},
   "source": [
    "## Class Methods\n",
    "\n",
    "+   Sometimes, we want to add functionality to a class itself, not to instances of that class.\n",
    "+   `@classmethod` is a function that we can use to add functionality to a class as a whole.\n",
    "+   Here’s an example of *not* using a class method. In your terminal window, type `code hat.py` and code as follows:\n",
    "  "
   ]
  },
  {
   "cell_type": "code",
   "execution_count": null,
   "metadata": {},
   "outputs": [],
   "source": [
    "  \n",
    "    \n",
    "    import random\n",
    "    \n",
    "    \n",
    "    class Hat:\n",
    "        def __init__(self):\n",
    "            self.houses = [\"Gryffindor\", \"Hufflepuff\", \"Ravenclaw\", \"Slytherin\"]\n",
    "    \n",
    "        def sort(self, name):\n",
    "            print(name, \"is in\", random.choice(self.houses))\n",
    "    \n",
    "    \n",
    "    hat = Hat()\n",
    "    hat.sort(\"Harry\")\n",
    "    \n",
    "    "
   ]
  },
  {
   "cell_type": "markdown",
   "metadata": {},
   "source": [
    "    Notice how when we pass the name of the student to the sorting hat, it will tell us what house is assigned to the student. Notice that `hat = Hat()` instantiates a `hat`. The `sort` functionality is always handled by the *instance* of the class `Hat`. By executing `hat.sort(\"Harry\")`, we pass the name of the student to the `sort` method of the particular instance of `Hat`, which we’ve called `hat`.\n",
    "    \n",
    "+   We may want, though, to run the `sort` function without creating a particular instance of the sorting hat (there’s only one, after all!). We can modify our code as follows:\n",
    "    "
   ]
  },
  {
   "cell_type": "code",
   "execution_count": null,
   "metadata": {},
   "outputs": [],
   "source": [
    "    \n",
    "    import random\n",
    "    \n",
    "    \n",
    "    class Hat:\n",
    "    \n",
    "        houses = [\"Gryffindor\", \"Hufflepuff\", \"Ravenclaw\", \"Slytherin\"]\n",
    "    \n",
    "        @classmethod\n",
    "        def sort(cls, name):\n",
    "            print(name, \"is in\", random.choice(cls.houses))\n",
    "    \n",
    "    \n",
    "    Hat.sort(\"Harry\")\n",
    "    "
   ]
  },
  {
   "cell_type": "markdown",
   "metadata": {},
   "source": [
    "    Notice how the `__init__` method is removed because we don’t need to instantiate a hat anywhere in our code. `self`, therefore, is no longer relevant and is removed. We specify this `sort` as a `@classmethod`, replacing `self` with `cls`. Finally, notice how `Hat` is capitalized by convention near the end of this code, because this is the name of our class.\n",
    "    \n",
    "+   Returning back to `students.py` we can modify our code as follows, addressing some missed opportunities related to `@classmethod`s:\n",
    "    "
   ]
  },
  {
   "cell_type": "code",
   "execution_count": null,
   "metadata": {},
   "outputs": [],
   "source": [
    "    \n",
    "    class Student:\n",
    "        def __init__(self, name, house):\n",
    "            self.name = name\n",
    "            self.house = house\n",
    "    \n",
    "        def __str__(self):\n",
    "            return f\"{self.name} from {self.house}\"\n",
    "    \n",
    "        @classmethod\n",
    "        def get(cls):\n",
    "            name = input(\"Name: \")\n",
    "            house = input(\"House: \")\n",
    "            return cls(name, house)\n",
    "    \n",
    "    \n",
    "    def main():\n",
    "        student = Student.get()\n",
    "        print(student)\n",
    "    \n",
    "    \n",
    "    if __name__ == \"__main__\":\n",
    "        main()\n",
    "    \n",
    "    "
   ]
  },
  {
   "cell_type": "markdown",
   "metadata": {},
   "source": [
    "    Notice that `get_student` is removed and a `@classmethod` called `get` is created. This method can now be called without having to create a student first.\n",
    "    "
   ]
  },
  {
   "cell_type": "markdown",
   "metadata": {},
   "source": [
    "## Static Methods\n",
    "\n",
    "+   It turns out that besides `@classmethod`s, which are distinct from instance methods, there are other types of methods as well.\n",
    "+   Using `@staticmethod` may be something you might wish to explore. While not covered explicitly in this course, you are welcome to go and learn more about static methods and their distinction from class methods.\n",
    "\n",
    "## Inheritance\n",
    "\n",
    "+   Inheritance is, perhaps, the most powerful feature of object-oriented programming.\n",
    "+   It just so happens that you can create a class that “inherits” methods, variables, and attributes from another class.\n",
    "+   In the terminal, execute `code wizard.py`. Code as follows:\n",
    "    "
   ]
  },
  {
   "cell_type": "code",
   "execution_count": null,
   "metadata": {},
   "outputs": [],
   "source": [
    "    \n",
    "    class Wizard:\n",
    "        def __init__(self, name):\n",
    "            if not name:\n",
    "                raise ValueError(\"Missing name\")\n",
    "            self.name = name\n",
    "    \n",
    "        ...\n",
    "    \n",
    "    \n",
    "    class Student(Wizard):\n",
    "        def __init__(self, name, house):\n",
    "            super().__init__(name)\n",
    "            self.house = house\n",
    "    \n",
    "        ...\n",
    "    \n",
    "    \n",
    "    class Professor(Wizard):\n",
    "        def __init__(self, name, subject):\n",
    "            super().__init__(name)\n",
    "            self.subject = subject\n",
    "    \n",
    "        ...\n",
    "    \n",
    "    \n",
    "    wizard = Wizard(\"Albus\")\n",
    "    student = Student(\"Harry\", \"Gryffindor\")\n",
    "    professor = Professor(\"Severus\", \"Defense Against the Dark Arts\")\n",
    "    ...\n",
    "    \n",
    "    "
   ]
  },
  {
   "cell_type": "markdown",
   "metadata": {},
   "source": [
    "    Notice that there is a class above called `Wizard` and a class called `Student`. Further, notice that there is a class called `Professor`. Both students and professors have names. Also, both students and professors are wizards. Therefore, both `Student` and `Professor` inherit the characteristics of `Wizard`. Within the “child” class `Student`, `Student` can inherit from the “parent” or “super” class `Wizard` as the line `super().__init__(name)` runs the `init` method of `Wizard`. Finally, notice that the last lines of this code create a wizard called Albus, a student called Harry, and so on.\n",
    "    "
   ]
  },
  {
   "cell_type": "markdown",
   "metadata": {},
   "source": [
    "## Inheritance and Exceptions\n",
    "\n",
    "+   While we have just introduced inheritance, we have been using this all along during our use of exceptions.\n",
    "+   It just so happens that exceptions come in a heirarchy, where there are children, parent, and grandparent classes. These are illustrated below:\n",
    "    "
   ]
  },
  {
   "cell_type": "markdown",
   "metadata": {},
   "source": [
    "    \n",
    "    BaseException\n",
    "     +-- KeyboardInterrupt\n",
    "     +-- Exception\n",
    "          +-- ArithmeticError\n",
    "          |    +-- ZeroDivisionError\n",
    "          +-- AssertionError\n",
    "          +-- AttributeError\n",
    "          +-- EOFError\n",
    "          +-- ImportError\n",
    "          |    +-- ModuleNotFoundError\n",
    "          +-- LookupError\n",
    "          |    +-- KeyError\n",
    "          +-- NameError\n",
    "          +-- SyntaxError\n",
    "          |    +-- IndentationError\n",
    "          +-- ValueError\n",
    "     ...\n",
    "    \n",
    "    "
   ]
  },
  {
   "cell_type": "markdown",
   "metadata": {},
   "source": [
    "+   You can learn more in Python’s documentation of [exceptions](https://docs.python.org/3/library/exceptions.html).\n",
    "\n",
    "## Operator Overloading\n",
    "\n",
    "+   Some operators such as `+` and `-` can be “overloaded” such that they can have more abilities beyond simple arithmetic.\n",
    "+   In your terminal window, type `code vault.py`. Then, code as follows:\n",
    "    "
   ]
  },
  {
   "cell_type": "code",
   "execution_count": null,
   "metadata": {},
   "outputs": [],
   "source": [
    "    \n",
    "    class Vault:\n",
    "        def __init__(self, galleons=0, sickles=0, knuts=0):\n",
    "            self.galleons = galleons\n",
    "            self.sickles = sickles\n",
    "            self.knuts = knuts\n",
    "    \n",
    "        def __str__(self):\n",
    "            return f\"{self.galleons} Galleons, {self.sickles} Sickles, {self.knuts} Knuts\"\n",
    "    \n",
    "        def __add__(self, other):\n",
    "            galleons = self.galleons + other.galleons\n",
    "            sickles = self.sickles + other.sickles\n",
    "            knuts = self.knuts + other.knuts\n",
    "            return Vault(galleons, sickles, knuts)\n",
    "    \n",
    "    \n",
    "    potter = Vault(100, 50, 25)\n",
    "    print(potter)\n",
    "    \n",
    "    weasley = Vault(25, 50, 100)\n",
    "    print(weasley)\n",
    "    \n",
    "    total = potter + weasley\n",
    "    print(total)\n",
    "    \n",
    "    "
   ]
  },
  {
   "cell_type": "markdown",
   "metadata": {},
   "source": [
    "    Notice how the `__str__` method returns a formatted string. Further, notice how the `__add__` method allows for the addition of the values of two vaults. `self` is what is on the left of the `+` operand. `other` is what is right of the `+`.\n",
    "    \n",
    "+   You can learn more in Python’s documentation of [operator overloading](https://docs.python.org/3/reference/datamodel.html#special-method-names)."
   ]
  },
  {
   "cell_type": "markdown",
   "metadata": {},
   "source": [
    "## Summing Up\n",
    "\n",
    "Now, you’ve learned a whole new level of capability through object-oriented programming.\n",
    "\n",
    "+   Object-oriented programming\n",
    "+   Classes\n",
    "+   `raise`\n",
    "+   Class Methods\n",
    "+   Static Methods\n",
    "+   Inheritance\n",
    "+   Operator Overloading"
   ]
  }
 ],
 "metadata": {
  "kernelspec": {
   "display_name": "Python 3 (ipykernel)",
   "language": "python",
   "name": "python3"
  },
  "language_info": {
   "codemirror_mode": {
    "name": "ipython",
    "version": 3
   },
   "file_extension": ".py",
   "mimetype": "text/x-python",
   "name": "python",
   "nbconvert_exporter": "python",
   "pygments_lexer": "ipython3",
   "version": "3.8.18"
  }
 },
 "nbformat": 4,
 "nbformat_minor": 4
}
