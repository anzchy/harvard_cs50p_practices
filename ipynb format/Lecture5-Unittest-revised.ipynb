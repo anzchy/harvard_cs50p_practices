{
 "cells": [
  {
   "cell_type": "markdown",
   "metadata": {},
   "source": [
    "## Lecture 5\n",
    "\n",
    "+   [Unit Tests](#unit-tests)\n",
    "+   [`assert`](#assert)\n",
    "+   [`pytest`](#pytest)\n",
    "+   [Testing Strings](#testing-strings)\n",
    "+   [Organizing Tests into Folders](#organizing-tests-into-folders)\n",
    "+   [Summing Up](#summing-up)"
   ]
  },
  {
   "cell_type": "markdown",
   "metadata": {},
   "source": [
    "## Unit Tests\n",
    "\n",
    "+   Up until now, you have been likely testing your own code using `print` statements.\n",
    "+   Alternatively, you may have been relying upon CS50 to test your code for you!\n",
    "+   It’s most common in industry to write code to test your own programs.\n",
    "+   In your console window, type `code calculator.py`. Note that you may have previously coded this file in a previous lecture. In the text editor, make sure that your code appears as follows:"
   ]
  },
  {
   "cell_type": "code",
   "execution_count": null,
   "metadata": {},
   "outputs": [],
   "source": [
    "    \n",
    "    \n",
    "    def main():\n",
    "        x = int(input(\"What's x? \"))\n",
    "        print(\"x squared is\", square(x))\n",
    "    \n",
    "    \n",
    "    def square(n):\n",
    "        return n * n\n",
    "    \n",
    "    \n",
    "    if __name__ == \"__main__\":\n",
    "        main()\n",
    "    "
   ]
  },
  {
   "cell_type": "markdown",
   "metadata": {},
   "source": [
    "    \n",
    "    Notice that you could plausibly test the above code on your own using some obvious numbers such as `2`. However, consider why you might want to create a test that ensures that the above code functions appropriately.\n",
    "    \n",
    "+   Following convention, let’s create a new test program by typing `code test_calculator.py` and modify your code in the text editor as follows:"
   ]
  },
  {
   "cell_type": "code",
   "execution_count": null,
   "metadata": {},
   "outputs": [],
   "source": [
    "    \n",
    "    \n",
    "    from calculator import square\n",
    "    \n",
    "    \n",
    "    def main():\n",
    "        test_square()\n",
    "    \n",
    "    \n",
    "    def test_square():\n",
    "        if square(2) != 4:\n",
    "            print(\"2 squared was not 4\")\n",
    "        if square(3) != 9:\n",
    "            print(\"3 squared was not 9\")\n",
    "    \n",
    "    \n",
    "    if __name__ == \"__main__\":\n",
    "        main()\n",
    "    "
   ]
  },
  {
   "cell_type": "markdown",
   "metadata": {},
   "source": [
    "    \n",
    "    Notice that we are importing the `square` function from `square.py` on the first line of code. By convention, we are creating a function called `test_square`. Inside that function, we define some conditions to test.\n",
    "    \n",
    "+   In the console window, type `python test_calculator.py`. You’ll notice that nothing is being outputted. It could be that everything is running fine! Alternatively, it could be that our test function did not discover one of the “corner cases” that could produce an error.\n",
    "+   Right now, our code tests two conditions. If we wanted to test many more conditions, our test code could easily become bloated. How could we expand our test capabilities without expanding our test code?"
   ]
  },
  {
   "cell_type": "markdown",
   "metadata": {},
   "source": [
    "## `assert`\n",
    "\n",
    "+   Python’s `assert` command allows us to tell the compiler that something, some assertion, is true. We can apply this to our test code as follows:"
   ]
  },
  {
   "cell_type": "code",
   "execution_count": null,
   "metadata": {},
   "outputs": [],
   "source": [
    "    \n",
    "    \n",
    "    from calculator import square\n",
    "    \n",
    "    \n",
    "    def main():\n",
    "        test_square()\n",
    "    \n",
    "    \n",
    "    def test_square():\n",
    "        assert square(2) == 4\n",
    "        assert square(3) == 9\n",
    "    \n",
    "    \n",
    "    if __name__ == \"__main__\":\n",
    "        main()\n",
    "    "
   ]
  },
  {
   "cell_type": "markdown",
   "metadata": {},
   "source": [
    "    \n",
    "    Notice that we are definitively asserting what `square(2)` and `square(3)` should equal. Our code is reduced from four test lines down to two.\n",
    "    \n",
    "+   We can purposely break our calculator code by modifying it as follows:"
   ]
  },
  {
   "cell_type": "code",
   "execution_count": null,
   "metadata": {},
   "outputs": [],
   "source": [
    "    \n",
    "    \n",
    "    def main():\n",
    "        x = int(input(\"What's x? \"))\n",
    "        print(\"x squared is\", square(x))\n",
    "    \n",
    "    \n",
    "    def square(n):\n",
    "        return n + n\n",
    "    \n",
    "    \n",
    "    if __name__ == \"__main__\":\n",
    "        main()\n",
    "    "
   ]
  },
  {
   "cell_type": "markdown",
   "metadata": {},
   "source": [
    "    \n",
    "    Notice that we have changed the `*` operator to a `+` in the square function.\n",
    "    \n",
    "+   Now running `python test_square.py` in the console window, you will notice that an `AssertionError` is raised by the compiler. Essentially, this is the compiler telling us that one of our conditions was not met.\n",
    "+   One of the challenges that we are now facing is that our code could become even more burdensome if we wanted to provide more descriptive error output to our users. Plausibly, we could code as follows:"
   ]
  },
  {
   "cell_type": "code",
   "execution_count": null,
   "metadata": {},
   "outputs": [],
   "source": [
    "    \n",
    "    \n",
    "    from calculator import square\n",
    "    \n",
    "    \n",
    "    def main():\n",
    "        test_square()\n",
    "    \n",
    "    \n",
    "    def test_square():\n",
    "        try:\n",
    "            assert square(2) == 4\n",
    "        except AssertionError:\n",
    "            print(\"2 squared is not 4\")\n",
    "        try:\n",
    "            assert square(3) == 9\n",
    "        except AssertionError:\n",
    "            print(\"3 squared is not 9\")\n",
    "        try:\n",
    "            assert square(-2) == 4\n",
    "        except AssertionError:\n",
    "            print(\"-2 squared is not 4\")\n",
    "        try:\n",
    "            assert square(-3) == 9\n",
    "        except AssertionError:\n",
    "            print(\"-3 squared is not 9\")\n",
    "        try:\n",
    "            assert square(0) == 0\n",
    "        except AssertionError:\n",
    "            print(\"0 squared is not 0\")\n",
    "    \n",
    "    \n",
    "    if __name__ == \"__main__\":\n",
    "        main()\n",
    "    "
   ]
  },
  {
   "cell_type": "markdown",
   "metadata": {},
   "source": [
    "    \n",
    "    Notice that running this code will produce multiple errors. However, it’s not producing all the errors above. This is a good illustration that it’s worth testing multiple cases such that you might catch situations where there are coding mistakes.\n",
    "    \n",
    "+   The above code illustrates a major challenge: How could we make it easier to test your code without dozens of lines of code like the above?\n",
    "\n",
    "You can learn more in Python’s documentation of [`assert`](https://docs.python.org/3/reference/simple_stmts.html#assert)."
   ]
  },
  {
   "cell_type": "markdown",
   "metadata": {},
   "source": [
    "## `pytest`\n",
    "\n",
    "+   `pytest` is a third-party library that allows you to unit test your program. That is, you can test your functions within your program.\n",
    "+   To utilize `pytest` please type `pip install pytest` into your console window.\n",
    "+   Before applying `pytest` to our own program, modify your `test_calculator` function as follows:"
   ]
  },
  {
   "cell_type": "code",
   "execution_count": null,
   "metadata": {},
   "outputs": [],
   "source": [
    "    \n",
    "    \n",
    "    from calculator import square\n",
    "    \n",
    "    \n",
    "    def test_assert():\n",
    "        assert square(2) == 4\n",
    "        assert square(3) == 9\n",
    "        assert square(-2) == 4\n",
    "        assert square(-3) == 9\n",
    "        assert square(0) == 0\n",
    "    "
   ]
  },
  {
   "cell_type": "markdown",
   "metadata": {},
   "source": [
    "    \n",
    "    Notice how the above code asserts all the conditions that we want to test.\n",
    "    \n",
    "+   `pytest` allows us to run our program directly through it, such that we can more easily view the results of our test conditions.\n",
    "+   In the terminal window, type `pytest test_calculator.py`. You’ll immediately notice that output will be provided. Notice the red `F` near the top of the output, indicating that something in your code failed. Further, notice that the red `E` provides some hints about the errors in your `calculator.py` program. Based upon the output, you can imagine a scenario where `3 * 3` has outputted `6` instead of `9`. Based on the results of this test, we can go correct our `calculator.py` code as follows:"
   ]
  },
  {
   "cell_type": "code",
   "execution_count": null,
   "metadata": {},
   "outputs": [],
   "source": [
    "    \n",
    "    \n",
    "    def main():\n",
    "        x = int(input(\"What's x? \"))\n",
    "        print(\"x squared is\", square(x))\n",
    "    \n",
    "    \n",
    "    def square(n):\n",
    "        return n * n\n",
    "    \n",
    "    \n",
    "    if __name__ == \"__main__\":\n",
    "        main()\n",
    "    "
   ]
  },
  {
   "cell_type": "markdown",
   "metadata": {},
   "source": [
    "    \n",
    "    Notice that we have changed the `+` operator to a `*` in the square function, returning it to a working state.\n",
    "    \n",
    "+   Re-running `pytest test_calculator.py`, notice how no errors are produced. Congratulations!\n",
    "    \n",
    "+   At the moment, it is not ideal that `pytest` will stop running after the first failed test. Again, let’s return our `calculator.py` code back to its broken state:"
   ]
  },
  {
   "cell_type": "code",
   "execution_count": null,
   "metadata": {},
   "outputs": [],
   "source": [
    "    \n",
    "    \n",
    "    def main():\n",
    "        x = int(input(\"What's x? \"))\n",
    "        print(\"x squared is\", square(x))\n",
    "    \n",
    "    \n",
    "    def square(n):\n",
    "        return n + n\n",
    "    \n",
    "    \n",
    "    if __name__ == \"__main__\":\n",
    "        main()\n",
    "    "
   ]
  },
  {
   "cell_type": "markdown",
   "metadata": {},
   "source": [
    "    \n",
    "    Notice that we have changed the `*` operator to a `+` in the square function, returning it to a broken state.\n",
    "    \n",
    "+   To improve our test code, let’s modify `test_calculator.py` to divide the code into different groups of tests:"
   ]
  },
  {
   "cell_type": "code",
   "execution_count": null,
   "metadata": {},
   "outputs": [],
   "source": [
    "    \n",
    "    \n",
    "    from calculator import square\n",
    "    \n",
    "    \n",
    "    def test_positive():\n",
    "        assert square(2) == 4\n",
    "        assert square(3) == 9\n",
    "    \n",
    "    \n",
    "    def test_negative():\n",
    "        assert square(-2) == 4\n",
    "        assert square(-3) == 9\n",
    "    \n",
    "    \n",
    "    def test_zero():\n",
    "        assert square(0) == 0\n",
    "    "
   ]
  },
  {
   "cell_type": "markdown",
   "metadata": {},
   "source": [
    "    \n",
    "    Notice that we have divided the same five tests into three different functions. Testing frameworks like `pytest` will run each function, even if there was a failure in one of them. Re-running `pytest test_calculator.py`, you will notice that many more errors are being displayed. More error output allows you to further explore what might be producing the problems within your code.\n",
    "    \n",
    "+   Having improved our test code, return your `calculator.py` code to fully working order:"
   ]
  },
  {
   "cell_type": "code",
   "execution_count": null,
   "metadata": {},
   "outputs": [],
   "source": [
    "    \n",
    "    \n",
    "    def main():\n",
    "        x = int(input(\"What's x? \"))\n",
    "        print(\"x squared is\", square(x))\n",
    "    \n",
    "    \n",
    "    def square(n):\n",
    "        return n * n\n",
    "    \n",
    "    \n",
    "    if __name__ == \"__main__\":\n",
    "        main()\n",
    "    "
   ]
  },
  {
   "cell_type": "markdown",
   "metadata": {},
   "source": [
    "    \n",
    "    Notice that we have changed the `+` operator to a `*` in the square function, returning it to a working state.\n",
    "    \n",
    "+   Re-running `pytest test_calculator.py`, you will notice that no errors are found.\n",
    "    \n",
    "+   Finally, we can test that our program handles exceptions. Let’s modify `test_calculator.py` to do just that."
   ]
  },
  {
   "cell_type": "code",
   "execution_count": null,
   "metadata": {},
   "outputs": [],
   "source": [
    "\n",
    "  import pytest\n",
    "\n",
    "  from calculator import square\n",
    "\n",
    "\n",
    "  def test_positive():\n",
    "      assert square(2) == 4\n",
    "      assert square(3) == 9\n",
    "\n",
    "\n",
    "  def test_negative():\n",
    "      assert square(-2) == 4\n",
    "      assert square(-3) == 9\n",
    "\n",
    "\n",
    "  def test_zero():\n",
    "      assert square(0) == 0\n",
    "\n",
    "\n",
    "  def test_str():\n",
    "      with pytest.raises(TypeError):\n",
    "          square(\"cat\")\n",
    "\n"
   ]
  },
  {
   "cell_type": "markdown",
   "metadata": {},
   "source": [
    "Notice that instead of using `assert`, we are taking advantage of a function within the `pytest` library itself called `raises` which allows you to express that you expect an error to be raised. We need to go to the top of our program and add `import pytest` and then call `pytest.raises` with the type of error we are expecting.\n",
    "\n",
    "+   Again, re-running `pytest test_calculator.py`, you will notice that no errors are found.\n",
    "    \n",
    "+   In summary, it’s up to you as a coder to define as many test conditions as you see fit!\n",
    "    \n",
    "\n",
    "You can learn more in Pytest’s documentation of [`pytest`](https://docs.pytest.org/en/7.1.x/getting-started.html)."
   ]
  },
  {
   "cell_type": "markdown",
   "metadata": {},
   "source": [
    "## Testing Strings\n",
    "\n",
    "+   Going back in time, consider the following code `hello.py`:"
   ]
  },
  {
   "cell_type": "code",
   "execution_count": null,
   "metadata": {},
   "outputs": [],
   "source": [
    "    \n",
    "    \n",
    "    def main():\n",
    "        name = input(\"What's your name? \")\n",
    "        hello(name)\n",
    "    \n",
    "    \n",
    "    def hello(to=\"world\"):\n",
    "        print(\"hello,\", to)\n",
    "    \n",
    "    \n",
    "    if __name__ == \"__main__\":\n",
    "        main()\n",
    "    "
   ]
  },
  {
   "cell_type": "markdown",
   "metadata": {},
   "source": [
    "    \n",
    "    Notice that we may wish to test the result of the `hello` function.\n",
    "    \n",
    "+   Consider the following code for `test_hello.py`:"
   ]
  },
  {
   "cell_type": "code",
   "execution_count": null,
   "metadata": {},
   "outputs": [],
   "source": [
    "    \n",
    "    \n",
    "    from hello import hello\n",
    "    \n",
    "    \n",
    "    def test_hello():\n",
    "        assert hello(\"David\") == \"hello, David\"\n",
    "        assert hello() == \"hello, world\"\n",
    "    "
   ]
  },
  {
   "cell_type": "markdown",
   "metadata": {},
   "source": [
    "    \n",
    "    Looking at this code, do you think that this approach to testing will work well? Why might this test not work well? Notice that the `hello` function in `hello.py` prints something: That is, it does not return a value!\n",
    "    \n",
    "+   We can change our `hello` function within `hello.py` as follows:"
   ]
  },
  {
   "cell_type": "code",
   "execution_count": null,
   "metadata": {},
   "outputs": [],
   "source": [
    "    \n",
    "    \n",
    "    def main():\n",
    "        name = input(\"What's your name? \")\n",
    "        print(hello(name))\n",
    "    \n",
    "    \n",
    "    def hello(to=\"world\"):\n",
    "        return f\"hello, {to}\"\n",
    "    \n",
    "    \n",
    "    if __name__ == \"__main__\":\n",
    "        main()\n",
    "    "
   ]
  },
  {
   "cell_type": "markdown",
   "metadata": {},
   "source": [
    "    \n",
    "    Notice that we changed our `hello` function to return a string. This effectively means that we can now use `pytest` to test the `hello` function.\n",
    "    \n",
    "+   Running `pytest test_hello.py`, our code will pass all tests!\n",
    "    \n",
    "+   As with our previous test case in this lesson, we can break out our tests separately:"
   ]
  },
  {
   "cell_type": "code",
   "execution_count": null,
   "metadata": {},
   "outputs": [],
   "source": [
    "    \n",
    "    \n",
    "    from hello import hello\n",
    "    \n",
    "    \n",
    "    def test_default():\n",
    "        assert hello() == \"hello, world\"\n",
    "    \n",
    "    \n",
    "    def test_argument():\n",
    "        assert hello(\"David\") == \"hello, David\"\n",
    "    "
   ]
  },
  {
   "cell_type": "markdown",
   "metadata": {},
   "source": [
    "    \n",
    "    Notice that the above code separates our test into multiple functions such that they will all run, even if an error is produced.\n",
    "    \n",
    "\n",
    "## Organizing Tests into Folders\n",
    "\n",
    "+   Unit testing code using multiple tests is so common that you have the ability to run a whole folder of tests with a single command.\n",
    "+   First, in the terminal window, execute `mkdir test` to create a folder called `test`.\n",
    "+   Then, to create a test within that folder, type in the terminal window `code test/test_hello.py`. Notice that `test/` instructs the terminal to create `test_hello.py` in the folder called `test`.\n",
    "+   In the text editor window, modify the file to include the following code:"
   ]
  },
  {
   "cell_type": "code",
   "execution_count": null,
   "metadata": {},
   "outputs": [],
   "source": [
    "    \n",
    "    \n",
    "    from hello import hello\n",
    "      \n",
    "      \n",
    "    def test_default():\n",
    "        assert hello() == \"hello, world\"\n",
    "      \n",
    "      \n",
    "    def test_argument():\n",
    "        assert hello(\"David\") == \"hello, David\"\n",
    "    "
   ]
  },
  {
   "cell_type": "markdown",
   "metadata": {},
   "source": [
    "    \n",
    "    Notice that we are creating a test just as we did before.\n",
    "    \n",
    "+   `pytest` will not allow us to run tests as a folder simply with this file (or a whole set of files) alone without a special `__init__` file. In your terminal window, create this file by typing `code test/__init__.py`. Note the `test/` as before, as well as the double underscores on either side of `init`. Even leaving this `__init__.py` file empty, `pytest` is informed that the whole folder containing `__init__.py` has tests that can be run.\n",
    "+   Now, typing `pytest test` in the terminal, you can run the entire `test` folder of code.\n",
    "\n",
    "You can learn more in Pytest’s documentation of [import mechanisms](https://docs.pytest.org/en/7.1.x/explanation/pythonpath.html?highlight=folder#pytest-import-mechanisms-and-sys-path-pythonpath)."
   ]
  },
  {
   "cell_type": "markdown",
   "metadata": {},
   "source": [
    "## Summing Up\n",
    "\n",
    "Testing your code is a natural part of the programming process. Unit tests allow you to test specific aspects of your code. You can create your own programs that test your code. Alternatively, you can utilize frameworks like `pytest` to run your unit tests for you. In this lecture, you learned about…\n",
    "\n",
    "+   Unit tests\n",
    "+   `assert`\n",
    "+   `pytest`"
   ]
  },
  {
   "cell_type": "code",
   "execution_count": null,
   "metadata": {},
   "outputs": [],
   "source": []
  }
 ],
 "metadata": {
  "kernelspec": {
   "display_name": "Python 3 (ipykernel)",
   "language": "python",
   "name": "python3"
  },
  "language_info": {
   "codemirror_mode": {
    "name": "ipython",
    "version": 3
   },
   "file_extension": ".py",
   "mimetype": "text/x-python",
   "name": "python",
   "nbconvert_exporter": "python",
   "pygments_lexer": "ipython3",
   "version": "3.8.18"
  }
 },
 "nbformat": 4,
 "nbformat_minor": 4
}
